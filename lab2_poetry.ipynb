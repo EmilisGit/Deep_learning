{
  "nbformat": 4,
  "nbformat_minor": 0,
  "metadata": {
    "colab": {
      "provenance": [],
      "gpuType": "T4",
      "include_colab_link": true
    },
    "kernelspec": {
      "name": "python3",
      "display_name": "Python 3"
    },
    "language_info": {
      "name": "python"
    },
    "accelerator": "GPU"
  },
  "cells": [
    {
      "cell_type": "markdown",
      "metadata": {
        "id": "view-in-github",
        "colab_type": "text"
      },
      "source": [
        "<a href=\"https://colab.research.google.com/github/EmilisGit/Deep_learning/blob/main/lab2_poetry.ipynb\" target=\"_parent\"><img src=\"https://colab.research.google.com/assets/colab-badge.svg\" alt=\"Open In Colab\"/></a>"
      ]
    },
    {
      "cell_type": "code",
      "source": [
        "!pip install markovify -q\n",
        "!pip install num2words -q\n",
        "!pip install pronouncing -q"
      ],
      "metadata": {
        "colab": {
          "base_uri": "https://localhost:8080/"
        },
        "id": "1LaT_w6Dz6y-",
        "outputId": "dd4e4d0c-7dfd-4294-edff-565c1457a3f6"
      },
      "execution_count": 1,
      "outputs": [
        {
          "output_type": "stream",
          "name": "stdout",
          "text": [
            "  Preparing metadata (setup.py) ... \u001b[?25l\u001b[?25hdone\n",
            "\u001b[?25l   \u001b[90m━━━━━━━━━━━━━━━━━━━━━━━━━━━━━━━━━━━━━━━━\u001b[0m \u001b[32m0.0/235.5 kB\u001b[0m \u001b[31m?\u001b[0m eta \u001b[36m-:--:--\u001b[0m\r\u001b[2K   \u001b[90m━━━━━━━━━━━━━━━━━━━━━━━━━━━━━━━━━━━━━━━━\u001b[0m \u001b[32m235.5/235.5 kB\u001b[0m \u001b[31m17.6 MB/s\u001b[0m eta \u001b[36m0:00:00\u001b[0m\n",
            "\u001b[?25h  Building wheel for markovify (setup.py) ... \u001b[?25l\u001b[?25hdone\n",
            "  Preparing metadata (setup.py) ... \u001b[?25l\u001b[?25hdone\n",
            "\u001b[2K   \u001b[90m━━━━━━━━━━━━━━━━━━━━━━━━━━━━━━━━━━━━━━━━\u001b[0m \u001b[32m143.3/143.3 kB\u001b[0m \u001b[31m1.3 MB/s\u001b[0m eta \u001b[36m0:00:00\u001b[0m\n",
            "\u001b[?25h  Building wheel for docopt (setup.py) ... \u001b[?25l\u001b[?25hdone\n",
            "  Preparing metadata (setup.py) ... \u001b[?25l\u001b[?25hdone\n",
            "\u001b[2K   \u001b[90m━━━━━━━━━━━━━━━━━━━━━━━━━━━━━━━━━━━━━━━━\u001b[0m \u001b[32m939.4/939.4 kB\u001b[0m \u001b[31m23.1 MB/s\u001b[0m eta \u001b[36m0:00:00\u001b[0m\n",
            "\u001b[?25h  Building wheel for pronouncing (setup.py) ... \u001b[?25l\u001b[?25hdone\n"
          ]
        }
      ]
    },
    {
      "cell_type": "code",
      "execution_count": 2,
      "metadata": {
        "id": "MJ3hHF_xAki1"
      },
      "outputs": [],
      "source": [
        "import os, re, random\n",
        "import numpy as np\n",
        "import pandas as pd\n",
        "from matplotlib import pyplot as plt\n",
        "import seaborn as sns\n",
        "import keras\n",
        "import markovify\n",
        "import kagglehub\n",
        "from num2words import num2words\n",
        "import pronouncing\n",
        "from keras.models import load_model"
      ]
    },
    {
      "cell_type": "code",
      "source": [
        "keras.utils.set_random_seed(812)\n",
        "random.seed(812)"
      ],
      "metadata": {
        "id": "FDx_weZIvVjW"
      },
      "execution_count": 3,
      "outputs": []
    },
    {
      "cell_type": "markdown",
      "source": [
        "## 1. Duomenų atsiuntimas ir apžiūra"
      ],
      "metadata": {
        "id": "E84GDfs8ukLu"
      }
    },
    {
      "cell_type": "code",
      "source": [
        "datapath = kagglehub.dataset_download(\"paultimothymooney/poetry\")\n",
        "data_files = os.listdir(datapath)\n",
        "print(f'Downloaded {len(data_files)} files:', data_files)"
      ],
      "metadata": {
        "colab": {
          "base_uri": "https://localhost:8080/"
        },
        "id": "OKDeRniyumot",
        "outputId": "25016d8d-f3b5-42cd-e841-730f509d9a57"
      },
      "execution_count": 4,
      "outputs": [
        {
          "output_type": "stream",
          "name": "stdout",
          "text": [
            "Downloading from https://www.kaggle.com/api/v1/datasets/download/paultimothymooney/poetry?dataset_version_number=16...\n"
          ]
        },
        {
          "output_type": "stream",
          "name": "stderr",
          "text": [
            "100%|██████████| 2.00M/2.00M [00:01<00:00, 1.84MB/s]"
          ]
        },
        {
          "output_type": "stream",
          "name": "stdout",
          "text": [
            "Extracting files...\n"
          ]
        },
        {
          "output_type": "stream",
          "name": "stderr",
          "text": [
            "\n"
          ]
        },
        {
          "output_type": "stream",
          "name": "stdout",
          "text": [
            "Downloaded 49 files: ['bruno-mars.txt', 'janisjoplin.txt', 'patti-smith.txt', 'leonard-cohen.txt', 'adele.txt', 'dolly-parton.txt', 'kanye-west.txt', 'alicia-keys.txt', 'cake.txt', 'Lil_Wayne.txt', 'nursery_rhymes.txt', 'nicki-minaj.txt', 'bob-marley.txt', 'nickelback.txt', 'amy-winehouse.txt', 'dr-seuss.txt', 'lady-gaga.txt', 'dickinson.txt', 'radiohead.txt', 'nirvana.txt', 'Kanye_West.txt', 'notorious_big.txt', 'lin-manuel-miranda.txt', 'johnny-cash.txt', 'ludacris.txt', 'michael-jackson.txt', 'blink-182.txt', 'britney-spears.txt', 'kanye.txt', 'al-green.txt', 'beatles.txt', 'bieber.txt', 'joni-mitchell.txt', 'disney.txt', 'lil-wayne.txt', 'paul-simon.txt', 'bjork.txt', 'bob-dylan.txt', 'lorde.txt', 'dj-khaled.txt', 'prince.txt', 'drake.txt', 'bruce-springsteen.txt', 'rihanna.txt', 'jimi-hendrix.txt', 'missy-elliott.txt', 'r-kelly.txt', 'eminem.txt', 'notorious-big.txt']\n"
          ]
        }
      ]
    },
    {
      "cell_type": "code",
      "source": [
        "#@title Funkcijos\n",
        "def normalize_word_line(line: str) -> list[str]:\n",
        "  row = [x.lower() for x in re.findall(r\"\\w+'?\\w*\", line)]\n",
        "  new_row = []\n",
        "  for word in row:\n",
        "    numbers = re.findall(r\"\\d+\", word)\n",
        "    for n in numbers:\n",
        "      word = word.replace(n, num2words(int(n)))\n",
        "    new_row.append(word)\n",
        "  return new_row"
      ],
      "metadata": {
        "id": "zt9z0Kyc_8X4"
      },
      "execution_count": 5,
      "outputs": []
    },
    {
      "cell_type": "code",
      "source": [
        "#@title Ritmo išgavimas\n",
        "def n_syllables(word_line: list[str]):\n",
        "    vowels = 'aeiouy'\n",
        "    syllable_count = 0\n",
        "\n",
        "    for word in word_line:\n",
        "        for i, char in enumerate(word):\n",
        "            if char in vowels:\n",
        "                if (i == 0) or (word[i-1] not in vowels):\n",
        "                    syllable_count += 1\n",
        "        word_vowels_count = sum([x in vowels for x in word])\n",
        "        if word_vowels_count == 0:  # abreviaturos\n",
        "            syllable_count = len(word)  # pvz. \"NLP\" skaitosi kaip \"en-el-pi\"\n",
        "        elif word_vowels_count > 1 and (word[-1] == 'e') and (word[-2] not in vowels):  # paskutinė \"e\" dažnai nesakoma anglų k., bet \"ie\", \"ee\" ištariama\n",
        "            syllable_count -= 1\n",
        "\n",
        "    return syllable_count\n",
        "\n",
        "def get_rhyme(line: list[str]) -> str:\n",
        "    last_word = re.sub('\\W+', '', line[-1])\n",
        "    all_rhymes = pronouncing.rhymes(last_word)\n",
        "    if all_rhymes:\n",
        "        rhyming_ends = [x[-2:] for x in all_rhymes]\n",
        "        most_common_rhyme = max(set(rhyming_ends), key=rhyming_ends.count)\n",
        "    else:\n",
        "        most_common_rhyme = last_word[-2:]\n",
        "    return most_common_rhyme\n",
        "\n",
        "\n",
        "def get_rhyme_list(normalized_lyrics: list[list[str]]):\n",
        "  rhyme_set = set()\n",
        "  for row in normalized_lyrics:\n",
        "    most_common_rhyme = get_rhyme(row)\n",
        "    rhyme_set.add(most_common_rhyme)\n",
        "\n",
        "  sorted_rhyme_set = sorted(list(rhyme_set), key=lambda x: x[-1])\n",
        "  return sorted_rhyme_set"
      ],
      "metadata": {
        "id": "pGA101F393i1"
      },
      "execution_count": 6,
      "outputs": []
    },
    {
      "cell_type": "code",
      "source": [
        "print(\"n_syllables output: \", n_syllables([\"good day everyone\"]))\n",
        "print(\"get_rhyme output: \", get_rhyme([\"good day everyone\"]))\n",
        "print(get_rhyme_list([[\"that's the strat\"], [\"make it fast\"]]))"
      ],
      "metadata": {
        "colab": {
          "base_uri": "https://localhost:8080/"
        },
        "id": "sfmOy0Fp5mEP",
        "outputId": "b73b351e-a2b7-4266-fb7b-09964177ce81"
      },
      "execution_count": 7,
      "outputs": [
        {
          "output_type": "stream",
          "name": "stdout",
          "text": [
            "n_syllables output:  5\n",
            "get_rhyme output:  ne\n",
            "['at', 'st']\n"
          ]
        }
      ]
    },
    {
      "cell_type": "markdown",
      "source": [
        "## 4. Duomenų rinkinio paruošimas\n",
        "\n",
        "Modelis negalės tiesiogiai operuoti skiemenimis, todėl turime naudoti skaičius:"
      ],
      "metadata": {
        "id": "hqrqD4NVfQvP"
      }
    },
    {
      "cell_type": "code",
      "source": [
        "#@title Duomenų rinkinio paruošimas\n",
        "def get_rhyme_float(line: list[str], rhyme_list: list[str]) -> float | None:\n",
        "  rhyme = get_rhyme(line)\n",
        "  if rhyme in rhyme_list:\n",
        "    return rhyme_list.index(rhyme) / len(rhyme_list)\n",
        "  else:\n",
        "    return None\n",
        "\n",
        "def length_test(sentence):\n",
        "    max_words = 8\n",
        "    return len(sentence.split()) <= max_words\n",
        "\n",
        "\n",
        "def get_random_lines(markov_model, n_rows: int) -> list[list[str]]:\n",
        "  lines = []\n",
        "  last_words = []\n",
        "\n",
        "  while len(lines) < n_rows:\n",
        "    line = markov_model.make_short_sentence(max_chars=40)\n",
        "    # nenorime gauti tuščios eilutės ar jau turimos eilutės\n",
        "    if (line is not None) and (line not in lines):\n",
        "      last_word = normalize_word_line(line)[-1]\n",
        "      # nenorime kad dažnai pasikartotų tas pats žodis eilutės gale\n",
        "      if last_words.count(last_word) < 3:\n",
        "        lines.append(normalize_word_line(line))\n",
        "        last_words.append(last_word)\n",
        "\n",
        "  return lines\n",
        "\n",
        "\n",
        "def get_line_features(line: list[str], rhyme_list: list[str]) -> tuple:\n",
        "  return (line, n_syllables(line), get_rhyme_float(line, rhyme_list))"
      ],
      "metadata": {
        "id": "EVXYruyxSRwG"
      },
      "execution_count": 8,
      "outputs": []
    },
    {
      "cell_type": "code",
      "source": [
        "def build_dataset(lines: list[list[str]], rhyme_list: list[str]):\n",
        "\tfeatures = [get_line_features(x, rhyme_list) for x in lines]\n",
        "\tx_data, y_data = [], []\n",
        "\n",
        "  # turėsime standartinę struktūrą kai eilutės rimuojasi po 4 grupėje\n",
        "\t# pirmos dvi eilutės bus pradinės savybės, antros dvi eilutės - prognozuojamos\n",
        "\tfor i in range(len(features) - 3):\n",
        "\t\t# duomenyse liks tik eilučių savybes, todėl visur [1:]\n",
        "\t\tline1, line2 = features[i    ][1:], features[i + 1][1:]\n",
        "\t\tline3, line4 = features[i + 2][1:], features[i + 3][1:]\n",
        "\t\tx_data.append(np.array([line1, line2]))\n",
        "\t\ty_data.append(np.array([line3, line4]))\n",
        "\treturn np.array(x_data), np.array(y_data)\n"
      ],
      "metadata": {
        "id": "MjvF1qx7CNGZ"
      },
      "execution_count": 9,
      "outputs": []
    },
    {
      "cell_type": "markdown",
      "source": [
        "## 5. RNN modelio inicializavimas\n",
        "\n",
        "Mūsų modelis turės prognozuoti naujų 4 eilučių savybes gaunant senas 4 eilutes."
      ],
      "metadata": {
        "id": "M65DDnrB1wa9"
      }
    },
    {
      "cell_type": "code",
      "source": [
        "def create_lstm(depth: int):\n",
        "\n",
        "  keras.backend.clear_session()  # pašaliname tarpinių modelių likučius\n",
        "  keras.utils.set_random_seed(812)\n",
        "\n",
        "  model = keras.Sequential(name='LSTM-based_lyrics_generator')\n",
        "  model.add(keras.layers.Input((2, 2)))\n",
        "  model.add(keras.layers.LSTM(4, return_sequences=True))\n",
        "  for i in range(depth):\n",
        "    model.add(keras.layers.LSTM(8, return_sequences=True))\n",
        "    model.add(keras.layers.Dropout(0.1))\n",
        "  model.add(keras.layers.LSTM(2, return_sequences=True))\n",
        "\n",
        "  model.compile(\n",
        "      optimizer=keras.optimizers.RMSprop(learning_rate=0.001),\n",
        "      loss='mse')\n",
        "\n",
        "  return model\n",
        "\n",
        "model = create_lstm(depth=3)\n",
        "model.summary()"
      ],
      "metadata": {
        "colab": {
          "base_uri": "https://localhost:8080/",
          "height": 408
        },
        "id": "oAMK9WWt11F-",
        "outputId": "20e78c12-c0b6-4304-f5e7-0d62486f025d"
      },
      "execution_count": 13,
      "outputs": [
        {
          "output_type": "display_data",
          "data": {
            "text/plain": [
              "\u001b[1mModel: \"LSTM-based_lyrics_generator\"\u001b[0m\n"
            ],
            "text/html": [
              "<pre style=\"white-space:pre;overflow-x:auto;line-height:normal;font-family:Menlo,'DejaVu Sans Mono',consolas,'Courier New',monospace\"><span style=\"font-weight: bold\">Model: \"LSTM-based_lyrics_generator\"</span>\n",
              "</pre>\n"
            ]
          },
          "metadata": {}
        },
        {
          "output_type": "display_data",
          "data": {
            "text/plain": [
              "┏━━━━━━━━━━━━━━━━━━━━━━━━━━━━━━━━━━━━━━┳━━━━━━━━━━━━━━━━━━━━━━━━━━━━━┳━━━━━━━━━━━━━━━━━┓\n",
              "┃\u001b[1m \u001b[0m\u001b[1mLayer (type)                        \u001b[0m\u001b[1m \u001b[0m┃\u001b[1m \u001b[0m\u001b[1mOutput Shape               \u001b[0m\u001b[1m \u001b[0m┃\u001b[1m \u001b[0m\u001b[1m        Param #\u001b[0m\u001b[1m \u001b[0m┃\n",
              "┡━━━━━━━━━━━━━━━━━━━━━━━━━━━━━━━━━━━━━━╇━━━━━━━━━━━━━━━━━━━━━━━━━━━━━╇━━━━━━━━━━━━━━━━━┩\n",
              "│ lstm (\u001b[38;5;33mLSTM\u001b[0m)                          │ (\u001b[38;5;45mNone\u001b[0m, \u001b[38;5;34m2\u001b[0m, \u001b[38;5;34m4\u001b[0m)                │             \u001b[38;5;34m112\u001b[0m │\n",
              "├──────────────────────────────────────┼─────────────────────────────┼─────────────────┤\n",
              "│ lstm_1 (\u001b[38;5;33mLSTM\u001b[0m)                        │ (\u001b[38;5;45mNone\u001b[0m, \u001b[38;5;34m2\u001b[0m, \u001b[38;5;34m8\u001b[0m)                │             \u001b[38;5;34m416\u001b[0m │\n",
              "├──────────────────────────────────────┼─────────────────────────────┼─────────────────┤\n",
              "│ dropout (\u001b[38;5;33mDropout\u001b[0m)                    │ (\u001b[38;5;45mNone\u001b[0m, \u001b[38;5;34m2\u001b[0m, \u001b[38;5;34m8\u001b[0m)                │               \u001b[38;5;34m0\u001b[0m │\n",
              "├──────────────────────────────────────┼─────────────────────────────┼─────────────────┤\n",
              "│ lstm_2 (\u001b[38;5;33mLSTM\u001b[0m)                        │ (\u001b[38;5;45mNone\u001b[0m, \u001b[38;5;34m2\u001b[0m, \u001b[38;5;34m8\u001b[0m)                │             \u001b[38;5;34m544\u001b[0m │\n",
              "├──────────────────────────────────────┼─────────────────────────────┼─────────────────┤\n",
              "│ dropout_1 (\u001b[38;5;33mDropout\u001b[0m)                  │ (\u001b[38;5;45mNone\u001b[0m, \u001b[38;5;34m2\u001b[0m, \u001b[38;5;34m8\u001b[0m)                │               \u001b[38;5;34m0\u001b[0m │\n",
              "├──────────────────────────────────────┼─────────────────────────────┼─────────────────┤\n",
              "│ lstm_3 (\u001b[38;5;33mLSTM\u001b[0m)                        │ (\u001b[38;5;45mNone\u001b[0m, \u001b[38;5;34m2\u001b[0m, \u001b[38;5;34m8\u001b[0m)                │             \u001b[38;5;34m544\u001b[0m │\n",
              "├──────────────────────────────────────┼─────────────────────────────┼─────────────────┤\n",
              "│ dropout_2 (\u001b[38;5;33mDropout\u001b[0m)                  │ (\u001b[38;5;45mNone\u001b[0m, \u001b[38;5;34m2\u001b[0m, \u001b[38;5;34m8\u001b[0m)                │               \u001b[38;5;34m0\u001b[0m │\n",
              "├──────────────────────────────────────┼─────────────────────────────┼─────────────────┤\n",
              "│ lstm_4 (\u001b[38;5;33mLSTM\u001b[0m)                        │ (\u001b[38;5;45mNone\u001b[0m, \u001b[38;5;34m2\u001b[0m, \u001b[38;5;34m2\u001b[0m)                │              \u001b[38;5;34m88\u001b[0m │\n",
              "└──────────────────────────────────────┴─────────────────────────────┴─────────────────┘\n"
            ],
            "text/html": [
              "<pre style=\"white-space:pre;overflow-x:auto;line-height:normal;font-family:Menlo,'DejaVu Sans Mono',consolas,'Courier New',monospace\">┏━━━━━━━━━━━━━━━━━━━━━━━━━━━━━━━━━━━━━━┳━━━━━━━━━━━━━━━━━━━━━━━━━━━━━┳━━━━━━━━━━━━━━━━━┓\n",
              "┃<span style=\"font-weight: bold\"> Layer (type)                         </span>┃<span style=\"font-weight: bold\"> Output Shape                </span>┃<span style=\"font-weight: bold\">         Param # </span>┃\n",
              "┡━━━━━━━━━━━━━━━━━━━━━━━━━━━━━━━━━━━━━━╇━━━━━━━━━━━━━━━━━━━━━━━━━━━━━╇━━━━━━━━━━━━━━━━━┩\n",
              "│ lstm (<span style=\"color: #0087ff; text-decoration-color: #0087ff\">LSTM</span>)                          │ (<span style=\"color: #00d7ff; text-decoration-color: #00d7ff\">None</span>, <span style=\"color: #00af00; text-decoration-color: #00af00\">2</span>, <span style=\"color: #00af00; text-decoration-color: #00af00\">4</span>)                │             <span style=\"color: #00af00; text-decoration-color: #00af00\">112</span> │\n",
              "├──────────────────────────────────────┼─────────────────────────────┼─────────────────┤\n",
              "│ lstm_1 (<span style=\"color: #0087ff; text-decoration-color: #0087ff\">LSTM</span>)                        │ (<span style=\"color: #00d7ff; text-decoration-color: #00d7ff\">None</span>, <span style=\"color: #00af00; text-decoration-color: #00af00\">2</span>, <span style=\"color: #00af00; text-decoration-color: #00af00\">8</span>)                │             <span style=\"color: #00af00; text-decoration-color: #00af00\">416</span> │\n",
              "├──────────────────────────────────────┼─────────────────────────────┼─────────────────┤\n",
              "│ dropout (<span style=\"color: #0087ff; text-decoration-color: #0087ff\">Dropout</span>)                    │ (<span style=\"color: #00d7ff; text-decoration-color: #00d7ff\">None</span>, <span style=\"color: #00af00; text-decoration-color: #00af00\">2</span>, <span style=\"color: #00af00; text-decoration-color: #00af00\">8</span>)                │               <span style=\"color: #00af00; text-decoration-color: #00af00\">0</span> │\n",
              "├──────────────────────────────────────┼─────────────────────────────┼─────────────────┤\n",
              "│ lstm_2 (<span style=\"color: #0087ff; text-decoration-color: #0087ff\">LSTM</span>)                        │ (<span style=\"color: #00d7ff; text-decoration-color: #00d7ff\">None</span>, <span style=\"color: #00af00; text-decoration-color: #00af00\">2</span>, <span style=\"color: #00af00; text-decoration-color: #00af00\">8</span>)                │             <span style=\"color: #00af00; text-decoration-color: #00af00\">544</span> │\n",
              "├──────────────────────────────────────┼─────────────────────────────┼─────────────────┤\n",
              "│ dropout_1 (<span style=\"color: #0087ff; text-decoration-color: #0087ff\">Dropout</span>)                  │ (<span style=\"color: #00d7ff; text-decoration-color: #00d7ff\">None</span>, <span style=\"color: #00af00; text-decoration-color: #00af00\">2</span>, <span style=\"color: #00af00; text-decoration-color: #00af00\">8</span>)                │               <span style=\"color: #00af00; text-decoration-color: #00af00\">0</span> │\n",
              "├──────────────────────────────────────┼─────────────────────────────┼─────────────────┤\n",
              "│ lstm_3 (<span style=\"color: #0087ff; text-decoration-color: #0087ff\">LSTM</span>)                        │ (<span style=\"color: #00d7ff; text-decoration-color: #00d7ff\">None</span>, <span style=\"color: #00af00; text-decoration-color: #00af00\">2</span>, <span style=\"color: #00af00; text-decoration-color: #00af00\">8</span>)                │             <span style=\"color: #00af00; text-decoration-color: #00af00\">544</span> │\n",
              "├──────────────────────────────────────┼─────────────────────────────┼─────────────────┤\n",
              "│ dropout_2 (<span style=\"color: #0087ff; text-decoration-color: #0087ff\">Dropout</span>)                  │ (<span style=\"color: #00d7ff; text-decoration-color: #00d7ff\">None</span>, <span style=\"color: #00af00; text-decoration-color: #00af00\">2</span>, <span style=\"color: #00af00; text-decoration-color: #00af00\">8</span>)                │               <span style=\"color: #00af00; text-decoration-color: #00af00\">0</span> │\n",
              "├──────────────────────────────────────┼─────────────────────────────┼─────────────────┤\n",
              "│ lstm_4 (<span style=\"color: #0087ff; text-decoration-color: #0087ff\">LSTM</span>)                        │ (<span style=\"color: #00d7ff; text-decoration-color: #00d7ff\">None</span>, <span style=\"color: #00af00; text-decoration-color: #00af00\">2</span>, <span style=\"color: #00af00; text-decoration-color: #00af00\">2</span>)                │              <span style=\"color: #00af00; text-decoration-color: #00af00\">88</span> │\n",
              "└──────────────────────────────────────┴─────────────────────────────┴─────────────────┘\n",
              "</pre>\n"
            ]
          },
          "metadata": {}
        },
        {
          "output_type": "display_data",
          "data": {
            "text/plain": [
              "\u001b[1m Total params: \u001b[0m\u001b[38;5;34m1,704\u001b[0m (6.66 KB)\n"
            ],
            "text/html": [
              "<pre style=\"white-space:pre;overflow-x:auto;line-height:normal;font-family:Menlo,'DejaVu Sans Mono',consolas,'Courier New',monospace\"><span style=\"font-weight: bold\"> Total params: </span><span style=\"color: #00af00; text-decoration-color: #00af00\">1,704</span> (6.66 KB)\n",
              "</pre>\n"
            ]
          },
          "metadata": {}
        },
        {
          "output_type": "display_data",
          "data": {
            "text/plain": [
              "\u001b[1m Trainable params: \u001b[0m\u001b[38;5;34m1,704\u001b[0m (6.66 KB)\n"
            ],
            "text/html": [
              "<pre style=\"white-space:pre;overflow-x:auto;line-height:normal;font-family:Menlo,'DejaVu Sans Mono',consolas,'Courier New',monospace\"><span style=\"font-weight: bold\"> Trainable params: </span><span style=\"color: #00af00; text-decoration-color: #00af00\">1,704</span> (6.66 KB)\n",
              "</pre>\n"
            ]
          },
          "metadata": {}
        },
        {
          "output_type": "display_data",
          "data": {
            "text/plain": [
              "\u001b[1m Non-trainable params: \u001b[0m\u001b[38;5;34m0\u001b[0m (0.00 B)\n"
            ],
            "text/html": [
              "<pre style=\"white-space:pre;overflow-x:auto;line-height:normal;font-family:Menlo,'DejaVu Sans Mono',consolas,'Courier New',monospace\"><span style=\"font-weight: bold\"> Non-trainable params: </span><span style=\"color: #00af00; text-decoration-color: #00af00\">0</span> (0.00 B)\n",
              "</pre>\n"
            ]
          },
          "metadata": {}
        }
      ]
    },
    {
      "cell_type": "code",
      "source": [
        "#@title Dviejų modelių sistema\n",
        "def compose(starting_input: np.ndarray, rnn_model, n_line_groups: int):\n",
        "\tfinal_vectors = []\n",
        "\tstarting_vectors = rnn_model.predict(starting_input).flatten().reshape(1, 2, 2)\n",
        "\tfinal_vectors.append(starting_vectors)\n",
        "\tfor i in range(n_line_groups):\n",
        "\t\tprev_vectors = final_vectors[-1]\n",
        "\t\tfinal_vectors.append(rnn_model.predict(prev_vectors).flatten().reshape(1, 2, 2))\n",
        "\treturn final_vectors\n",
        "\n",
        "\n",
        "def last_word_compare(prev_lines: list[list[str]], new_line: list[str], penalty: float = 0.2) -> float:\n",
        "\tsum_penalty = 0.0\n",
        "\tfor line in prev_lines:\n",
        "\t\tif line[-1] == new_line[-1]:\n",
        "\t\t\tsum_penalty += penalty\n",
        "\treturn sum_penalty\n",
        "\n",
        "\n",
        "def calculate_score(features, n_syllables, rhyme, penalty: float, rhyme_list, maxsyllables):\n",
        "\tdesired_n_syllables = features[0] * maxsyllables\n",
        "\tdesired_rhyme = features[1] * len(rhyme_list)\n",
        "\tsyllable_score = - abs(float(desired_n_syllables) - float(n_syllables))\n",
        "\trhyme_score = 2.0 * abs(float(desired_rhyme) - float(rhyme))\n",
        "\tscore = 1.0 + syllable_score + rhyme_score - penalty\n",
        "\treturn score\n",
        "\n",
        "\n",
        "def vectors_into_song(vectors, generated_lyrics, rhyme_list, maxsyllables: int):\n",
        "\tsong = []\n",
        "\tgenerated_features = [get_line_features(x, rhyme_list) for x in generated_lyrics]\n",
        "\n",
        "\tvector_halves = []\n",
        "\tfor vector in vectors:\n",
        "\t\tvector_halves.extend(vector[0].tolist())\n",
        "\n",
        "\tfor vector in vector_halves:\n",
        "\t\tscorelist = []\n",
        "\n",
        "\t\tfor (line, n_syllables, rhyme) in generated_features:\n",
        "\t\t\tif len(song) != 0:\n",
        "\t\t\t\tpenalty = last_word_compare(song, line)\n",
        "\t\t\telse:\n",
        "\t\t\t\tpenalty = 0\n",
        "\n",
        "\t\t\ttotal_score = calculate_score(vector, n_syllables, rhyme, penalty, rhyme_list, maxsyllables)\n",
        "\t\t\tscorelist.append([line, total_score])\n",
        "\n",
        "\t\t# randame eilutę su aukščiausiu įvertinimu\n",
        "\t\tbest_line_index = np.argmax([float(x[1]) for x in scorelist])\n",
        "\t\tbest_line = scorelist[best_line_index][0]\n",
        "\t\tsong.append(best_line)\n",
        "\n",
        "\t\t# pašaliname šią eilutę iš likusių eilučių sąrašo\n",
        "\t\tgenerated_features = [x for x in generated_features if x[0] != best_line]\n",
        "\n",
        "\treturn [' '.join(x) for x in song]"
      ],
      "metadata": {
        "id": "HtOIBhYm6Sfr"
      },
      "execution_count": 11,
      "outputs": []
    },
    {
      "cell_type": "markdown",
      "source": [
        "Sudedame viską į vientą vietą:"
      ],
      "metadata": {
        "id": "lAcjfK-zfNJ6"
      }
    },
    {
      "cell_type": "code",
      "source": [
        "artist_files = ['ludacris.txt', 'kanye-west.txt']\n",
        "raw_lyrics = \"\"\n",
        "for file in artist_files:\n",
        "  with open(os.path.join(datapath, file), 'r') as f:\n",
        "      contents = f.read()\n",
        "      raw_lyrics += contents + \"\\n\"\n",
        "\n",
        "markov_model = markovify.NewlineText(raw_lyrics)\n",
        "\n",
        "lyrics = [normalize_word_line(x) for x in raw_lyrics.splitlines()]\n",
        "lyrics = [x for x in lyrics if x]\n",
        "rhymes = get_rhyme_list(lyrics)\n",
        "\n",
        "x_data, y_data = build_dataset(lyrics, rhymes)\n",
        "\n",
        "model = create_lstm(depth=4)\n",
        "print(model.summary())\n",
        "\n",
        "model.fit(\n",
        "    x_data, y_data,\n",
        "    batch_size=2,\n",
        "    epochs=20\n",
        ")\n",
        "\n",
        "from google.colab import drive\n",
        "drive.mount('/content/drive')\n",
        "\n",
        "model.save('/content/drive/MyDrive/Colab/LSTM-based_lyrics_generator.keras')\n",
        "\n",
        "\n",
        "start_i = np.random.choice(range(len(x_data)))\n",
        "start = np.array([x_data[start_i]])\n",
        "vectors = compose(start, model, 4)\n",
        "some_lyrics = get_random_lines(markov_model, 200)\n",
        "vectors_into_song(vectors, some_lyrics, rhymes, maxsyllables=12)"
      ],
      "metadata": {
        "colab": {
          "base_uri": "https://localhost:8080/",
          "height": 1000
        },
        "id": "esKvto25lXlL",
        "outputId": "f246a96d-dd4d-438c-e3fd-e869ddc1e619"
      },
      "execution_count": 15,
      "outputs": [
        {
          "output_type": "display_data",
          "data": {
            "text/plain": [
              "\u001b[1mModel: \"LSTM-based_lyrics_generator\"\u001b[0m\n"
            ],
            "text/html": [
              "<pre style=\"white-space:pre;overflow-x:auto;line-height:normal;font-family:Menlo,'DejaVu Sans Mono',consolas,'Courier New',monospace\"><span style=\"font-weight: bold\">Model: \"LSTM-based_lyrics_generator\"</span>\n",
              "</pre>\n"
            ]
          },
          "metadata": {}
        },
        {
          "output_type": "display_data",
          "data": {
            "text/plain": [
              "┏━━━━━━━━━━━━━━━━━━━━━━━━━━━━━━━━━━━━━━┳━━━━━━━━━━━━━━━━━━━━━━━━━━━━━┳━━━━━━━━━━━━━━━━━┓\n",
              "┃\u001b[1m \u001b[0m\u001b[1mLayer (type)                        \u001b[0m\u001b[1m \u001b[0m┃\u001b[1m \u001b[0m\u001b[1mOutput Shape               \u001b[0m\u001b[1m \u001b[0m┃\u001b[1m \u001b[0m\u001b[1m        Param #\u001b[0m\u001b[1m \u001b[0m┃\n",
              "┡━━━━━━━━━━━━━━━━━━━━━━━━━━━━━━━━━━━━━━╇━━━━━━━━━━━━━━━━━━━━━━━━━━━━━╇━━━━━━━━━━━━━━━━━┩\n",
              "│ lstm (\u001b[38;5;33mLSTM\u001b[0m)                          │ (\u001b[38;5;45mNone\u001b[0m, \u001b[38;5;34m2\u001b[0m, \u001b[38;5;34m4\u001b[0m)                │             \u001b[38;5;34m112\u001b[0m │\n",
              "├──────────────────────────────────────┼─────────────────────────────┼─────────────────┤\n",
              "│ lstm_1 (\u001b[38;5;33mLSTM\u001b[0m)                        │ (\u001b[38;5;45mNone\u001b[0m, \u001b[38;5;34m2\u001b[0m, \u001b[38;5;34m8\u001b[0m)                │             \u001b[38;5;34m416\u001b[0m │\n",
              "├──────────────────────────────────────┼─────────────────────────────┼─────────────────┤\n",
              "│ dropout (\u001b[38;5;33mDropout\u001b[0m)                    │ (\u001b[38;5;45mNone\u001b[0m, \u001b[38;5;34m2\u001b[0m, \u001b[38;5;34m8\u001b[0m)                │               \u001b[38;5;34m0\u001b[0m │\n",
              "├──────────────────────────────────────┼─────────────────────────────┼─────────────────┤\n",
              "│ lstm_2 (\u001b[38;5;33mLSTM\u001b[0m)                        │ (\u001b[38;5;45mNone\u001b[0m, \u001b[38;5;34m2\u001b[0m, \u001b[38;5;34m8\u001b[0m)                │             \u001b[38;5;34m544\u001b[0m │\n",
              "├──────────────────────────────────────┼─────────────────────────────┼─────────────────┤\n",
              "│ dropout_1 (\u001b[38;5;33mDropout\u001b[0m)                  │ (\u001b[38;5;45mNone\u001b[0m, \u001b[38;5;34m2\u001b[0m, \u001b[38;5;34m8\u001b[0m)                │               \u001b[38;5;34m0\u001b[0m │\n",
              "├──────────────────────────────────────┼─────────────────────────────┼─────────────────┤\n",
              "│ lstm_3 (\u001b[38;5;33mLSTM\u001b[0m)                        │ (\u001b[38;5;45mNone\u001b[0m, \u001b[38;5;34m2\u001b[0m, \u001b[38;5;34m8\u001b[0m)                │             \u001b[38;5;34m544\u001b[0m │\n",
              "├──────────────────────────────────────┼─────────────────────────────┼─────────────────┤\n",
              "│ dropout_2 (\u001b[38;5;33mDropout\u001b[0m)                  │ (\u001b[38;5;45mNone\u001b[0m, \u001b[38;5;34m2\u001b[0m, \u001b[38;5;34m8\u001b[0m)                │               \u001b[38;5;34m0\u001b[0m │\n",
              "├──────────────────────────────────────┼─────────────────────────────┼─────────────────┤\n",
              "│ lstm_4 (\u001b[38;5;33mLSTM\u001b[0m)                        │ (\u001b[38;5;45mNone\u001b[0m, \u001b[38;5;34m2\u001b[0m, \u001b[38;5;34m8\u001b[0m)                │             \u001b[38;5;34m544\u001b[0m │\n",
              "├──────────────────────────────────────┼─────────────────────────────┼─────────────────┤\n",
              "│ dropout_3 (\u001b[38;5;33mDropout\u001b[0m)                  │ (\u001b[38;5;45mNone\u001b[0m, \u001b[38;5;34m2\u001b[0m, \u001b[38;5;34m8\u001b[0m)                │               \u001b[38;5;34m0\u001b[0m │\n",
              "├──────────────────────────────────────┼─────────────────────────────┼─────────────────┤\n",
              "│ lstm_5 (\u001b[38;5;33mLSTM\u001b[0m)                        │ (\u001b[38;5;45mNone\u001b[0m, \u001b[38;5;34m2\u001b[0m, \u001b[38;5;34m2\u001b[0m)                │              \u001b[38;5;34m88\u001b[0m │\n",
              "└──────────────────────────────────────┴─────────────────────────────┴─────────────────┘\n"
            ],
            "text/html": [
              "<pre style=\"white-space:pre;overflow-x:auto;line-height:normal;font-family:Menlo,'DejaVu Sans Mono',consolas,'Courier New',monospace\">┏━━━━━━━━━━━━━━━━━━━━━━━━━━━━━━━━━━━━━━┳━━━━━━━━━━━━━━━━━━━━━━━━━━━━━┳━━━━━━━━━━━━━━━━━┓\n",
              "┃<span style=\"font-weight: bold\"> Layer (type)                         </span>┃<span style=\"font-weight: bold\"> Output Shape                </span>┃<span style=\"font-weight: bold\">         Param # </span>┃\n",
              "┡━━━━━━━━━━━━━━━━━━━━━━━━━━━━━━━━━━━━━━╇━━━━━━━━━━━━━━━━━━━━━━━━━━━━━╇━━━━━━━━━━━━━━━━━┩\n",
              "│ lstm (<span style=\"color: #0087ff; text-decoration-color: #0087ff\">LSTM</span>)                          │ (<span style=\"color: #00d7ff; text-decoration-color: #00d7ff\">None</span>, <span style=\"color: #00af00; text-decoration-color: #00af00\">2</span>, <span style=\"color: #00af00; text-decoration-color: #00af00\">4</span>)                │             <span style=\"color: #00af00; text-decoration-color: #00af00\">112</span> │\n",
              "├──────────────────────────────────────┼─────────────────────────────┼─────────────────┤\n",
              "│ lstm_1 (<span style=\"color: #0087ff; text-decoration-color: #0087ff\">LSTM</span>)                        │ (<span style=\"color: #00d7ff; text-decoration-color: #00d7ff\">None</span>, <span style=\"color: #00af00; text-decoration-color: #00af00\">2</span>, <span style=\"color: #00af00; text-decoration-color: #00af00\">8</span>)                │             <span style=\"color: #00af00; text-decoration-color: #00af00\">416</span> │\n",
              "├──────────────────────────────────────┼─────────────────────────────┼─────────────────┤\n",
              "│ dropout (<span style=\"color: #0087ff; text-decoration-color: #0087ff\">Dropout</span>)                    │ (<span style=\"color: #00d7ff; text-decoration-color: #00d7ff\">None</span>, <span style=\"color: #00af00; text-decoration-color: #00af00\">2</span>, <span style=\"color: #00af00; text-decoration-color: #00af00\">8</span>)                │               <span style=\"color: #00af00; text-decoration-color: #00af00\">0</span> │\n",
              "├──────────────────────────────────────┼─────────────────────────────┼─────────────────┤\n",
              "│ lstm_2 (<span style=\"color: #0087ff; text-decoration-color: #0087ff\">LSTM</span>)                        │ (<span style=\"color: #00d7ff; text-decoration-color: #00d7ff\">None</span>, <span style=\"color: #00af00; text-decoration-color: #00af00\">2</span>, <span style=\"color: #00af00; text-decoration-color: #00af00\">8</span>)                │             <span style=\"color: #00af00; text-decoration-color: #00af00\">544</span> │\n",
              "├──────────────────────────────────────┼─────────────────────────────┼─────────────────┤\n",
              "│ dropout_1 (<span style=\"color: #0087ff; text-decoration-color: #0087ff\">Dropout</span>)                  │ (<span style=\"color: #00d7ff; text-decoration-color: #00d7ff\">None</span>, <span style=\"color: #00af00; text-decoration-color: #00af00\">2</span>, <span style=\"color: #00af00; text-decoration-color: #00af00\">8</span>)                │               <span style=\"color: #00af00; text-decoration-color: #00af00\">0</span> │\n",
              "├──────────────────────────────────────┼─────────────────────────────┼─────────────────┤\n",
              "│ lstm_3 (<span style=\"color: #0087ff; text-decoration-color: #0087ff\">LSTM</span>)                        │ (<span style=\"color: #00d7ff; text-decoration-color: #00d7ff\">None</span>, <span style=\"color: #00af00; text-decoration-color: #00af00\">2</span>, <span style=\"color: #00af00; text-decoration-color: #00af00\">8</span>)                │             <span style=\"color: #00af00; text-decoration-color: #00af00\">544</span> │\n",
              "├──────────────────────────────────────┼─────────────────────────────┼─────────────────┤\n",
              "│ dropout_2 (<span style=\"color: #0087ff; text-decoration-color: #0087ff\">Dropout</span>)                  │ (<span style=\"color: #00d7ff; text-decoration-color: #00d7ff\">None</span>, <span style=\"color: #00af00; text-decoration-color: #00af00\">2</span>, <span style=\"color: #00af00; text-decoration-color: #00af00\">8</span>)                │               <span style=\"color: #00af00; text-decoration-color: #00af00\">0</span> │\n",
              "├──────────────────────────────────────┼─────────────────────────────┼─────────────────┤\n",
              "│ lstm_4 (<span style=\"color: #0087ff; text-decoration-color: #0087ff\">LSTM</span>)                        │ (<span style=\"color: #00d7ff; text-decoration-color: #00d7ff\">None</span>, <span style=\"color: #00af00; text-decoration-color: #00af00\">2</span>, <span style=\"color: #00af00; text-decoration-color: #00af00\">8</span>)                │             <span style=\"color: #00af00; text-decoration-color: #00af00\">544</span> │\n",
              "├──────────────────────────────────────┼─────────────────────────────┼─────────────────┤\n",
              "│ dropout_3 (<span style=\"color: #0087ff; text-decoration-color: #0087ff\">Dropout</span>)                  │ (<span style=\"color: #00d7ff; text-decoration-color: #00d7ff\">None</span>, <span style=\"color: #00af00; text-decoration-color: #00af00\">2</span>, <span style=\"color: #00af00; text-decoration-color: #00af00\">8</span>)                │               <span style=\"color: #00af00; text-decoration-color: #00af00\">0</span> │\n",
              "├──────────────────────────────────────┼─────────────────────────────┼─────────────────┤\n",
              "│ lstm_5 (<span style=\"color: #0087ff; text-decoration-color: #0087ff\">LSTM</span>)                        │ (<span style=\"color: #00d7ff; text-decoration-color: #00d7ff\">None</span>, <span style=\"color: #00af00; text-decoration-color: #00af00\">2</span>, <span style=\"color: #00af00; text-decoration-color: #00af00\">2</span>)                │              <span style=\"color: #00af00; text-decoration-color: #00af00\">88</span> │\n",
              "└──────────────────────────────────────┴─────────────────────────────┴─────────────────┘\n",
              "</pre>\n"
            ]
          },
          "metadata": {}
        },
        {
          "output_type": "display_data",
          "data": {
            "text/plain": [
              "\u001b[1m Total params: \u001b[0m\u001b[38;5;34m2,248\u001b[0m (8.78 KB)\n"
            ],
            "text/html": [
              "<pre style=\"white-space:pre;overflow-x:auto;line-height:normal;font-family:Menlo,'DejaVu Sans Mono',consolas,'Courier New',monospace\"><span style=\"font-weight: bold\"> Total params: </span><span style=\"color: #00af00; text-decoration-color: #00af00\">2,248</span> (8.78 KB)\n",
              "</pre>\n"
            ]
          },
          "metadata": {}
        },
        {
          "output_type": "display_data",
          "data": {
            "text/plain": [
              "\u001b[1m Trainable params: \u001b[0m\u001b[38;5;34m2,248\u001b[0m (8.78 KB)\n"
            ],
            "text/html": [
              "<pre style=\"white-space:pre;overflow-x:auto;line-height:normal;font-family:Menlo,'DejaVu Sans Mono',consolas,'Courier New',monospace\"><span style=\"font-weight: bold\"> Trainable params: </span><span style=\"color: #00af00; text-decoration-color: #00af00\">2,248</span> (8.78 KB)\n",
              "</pre>\n"
            ]
          },
          "metadata": {}
        },
        {
          "output_type": "display_data",
          "data": {
            "text/plain": [
              "\u001b[1m Non-trainable params: \u001b[0m\u001b[38;5;34m0\u001b[0m (0.00 B)\n"
            ],
            "text/html": [
              "<pre style=\"white-space:pre;overflow-x:auto;line-height:normal;font-family:Menlo,'DejaVu Sans Mono',consolas,'Courier New',monospace\"><span style=\"font-weight: bold\"> Non-trainable params: </span><span style=\"color: #00af00; text-decoration-color: #00af00\">0</span> (0.00 B)\n",
              "</pre>\n"
            ]
          },
          "metadata": {}
        },
        {
          "output_type": "stream",
          "name": "stdout",
          "text": [
            "None\n",
            "Epoch 1/20\n",
            "\u001b[1m5609/5609\u001b[0m \u001b[32m━━━━━━━━━━━━━━━━━━━━\u001b[0m\u001b[37m\u001b[0m \u001b[1m52s\u001b[0m 9ms/step - loss: 58.6260\n",
            "Epoch 2/20\n",
            "\u001b[1m5609/5609\u001b[0m \u001b[32m━━━━━━━━━━━━━━━━━━━━\u001b[0m\u001b[37m\u001b[0m \u001b[1m81s\u001b[0m 9ms/step - loss: 57.3474\n",
            "Epoch 3/20\n",
            "\u001b[1m5609/5609\u001b[0m \u001b[32m━━━━━━━━━━━━━━━━━━━━\u001b[0m\u001b[37m\u001b[0m \u001b[1m81s\u001b[0m 8ms/step - loss: 57.3471\n",
            "Epoch 4/20\n",
            "\u001b[1m5609/5609\u001b[0m \u001b[32m━━━━━━━━━━━━━━━━━━━━\u001b[0m\u001b[37m\u001b[0m \u001b[1m83s\u001b[0m 9ms/step - loss: 57.3471\n",
            "Epoch 5/20\n",
            "\u001b[1m5609/5609\u001b[0m \u001b[32m━━━━━━━━━━━━━━━━━━━━\u001b[0m\u001b[37m\u001b[0m \u001b[1m82s\u001b[0m 9ms/step - loss: 57.3470\n",
            "Epoch 6/20\n",
            "\u001b[1m5609/5609\u001b[0m \u001b[32m━━━━━━━━━━━━━━━━━━━━\u001b[0m\u001b[37m\u001b[0m \u001b[1m48s\u001b[0m 8ms/step - loss: 57.3470\n",
            "Epoch 7/20\n",
            "\u001b[1m5609/5609\u001b[0m \u001b[32m━━━━━━━━━━━━━━━━━━━━\u001b[0m\u001b[37m\u001b[0m \u001b[1m49s\u001b[0m 9ms/step - loss: 57.3470\n",
            "Epoch 8/20\n",
            "\u001b[1m5609/5609\u001b[0m \u001b[32m━━━━━━━━━━━━━━━━━━━━\u001b[0m\u001b[37m\u001b[0m \u001b[1m82s\u001b[0m 9ms/step - loss: 57.3470\n",
            "Epoch 9/20\n",
            "\u001b[1m5609/5609\u001b[0m \u001b[32m━━━━━━━━━━━━━━━━━━━━\u001b[0m\u001b[37m\u001b[0m \u001b[1m82s\u001b[0m 9ms/step - loss: 57.3470\n",
            "Epoch 10/20\n",
            "\u001b[1m5609/5609\u001b[0m \u001b[32m━━━━━━━━━━━━━━━━━━━━\u001b[0m\u001b[37m\u001b[0m \u001b[1m49s\u001b[0m 9ms/step - loss: 57.3470\n",
            "Epoch 11/20\n",
            "\u001b[1m5609/5609\u001b[0m \u001b[32m━━━━━━━━━━━━━━━━━━━━\u001b[0m\u001b[37m\u001b[0m \u001b[1m82s\u001b[0m 9ms/step - loss: 57.3470\n",
            "Epoch 12/20\n",
            "\u001b[1m5609/5609\u001b[0m \u001b[32m━━━━━━━━━━━━━━━━━━━━\u001b[0m\u001b[37m\u001b[0m \u001b[1m82s\u001b[0m 9ms/step - loss: 57.3470\n",
            "Epoch 13/20\n",
            "\u001b[1m5609/5609\u001b[0m \u001b[32m━━━━━━━━━━━━━━━━━━━━\u001b[0m\u001b[37m\u001b[0m \u001b[1m82s\u001b[0m 9ms/step - loss: 57.3470\n",
            "Epoch 14/20\n",
            "\u001b[1m5609/5609\u001b[0m \u001b[32m━━━━━━━━━━━━━━━━━━━━\u001b[0m\u001b[37m\u001b[0m \u001b[1m81s\u001b[0m 9ms/step - loss: 57.3470\n",
            "Epoch 15/20\n",
            "\u001b[1m5609/5609\u001b[0m \u001b[32m━━━━━━━━━━━━━━━━━━━━\u001b[0m\u001b[37m\u001b[0m \u001b[1m83s\u001b[0m 9ms/step - loss: 57.3470\n",
            "Epoch 16/20\n",
            "\u001b[1m5609/5609\u001b[0m \u001b[32m━━━━━━━━━━━━━━━━━━━━\u001b[0m\u001b[37m\u001b[0m \u001b[1m82s\u001b[0m 9ms/step - loss: 57.3470\n",
            "Epoch 17/20\n",
            "\u001b[1m5609/5609\u001b[0m \u001b[32m━━━━━━━━━━━━━━━━━━━━\u001b[0m\u001b[37m\u001b[0m \u001b[1m48s\u001b[0m 9ms/step - loss: 57.3470\n",
            "Epoch 18/20\n",
            "\u001b[1m5609/5609\u001b[0m \u001b[32m━━━━━━━━━━━━━━━━━━━━\u001b[0m\u001b[37m\u001b[0m \u001b[1m83s\u001b[0m 9ms/step - loss: 57.3470\n",
            "Epoch 19/20\n",
            "\u001b[1m5609/5609\u001b[0m \u001b[32m━━━━━━━━━━━━━━━━━━━━\u001b[0m\u001b[37m\u001b[0m \u001b[1m82s\u001b[0m 9ms/step - loss: 57.3470\n",
            "Epoch 20/20\n",
            "\u001b[1m5609/5609\u001b[0m \u001b[32m━━━━━━━━━━━━━━━━━━━━\u001b[0m\u001b[37m\u001b[0m \u001b[1m81s\u001b[0m 9ms/step - loss: 57.3470\n",
            "Mounted at /content/drive\n",
            "\u001b[1m1/1\u001b[0m \u001b[32m━━━━━━━━━━━━━━━━━━━━\u001b[0m\u001b[37m\u001b[0m \u001b[1m0s\u001b[0m 358ms/step\n",
            "\u001b[1m1/1\u001b[0m \u001b[32m━━━━━━━━━━━━━━━━━━━━\u001b[0m\u001b[37m\u001b[0m \u001b[1m0s\u001b[0m 17ms/step\n",
            "\u001b[1m1/1\u001b[0m \u001b[32m━━━━━━━━━━━━━━━━━━━━\u001b[0m\u001b[37m\u001b[0m \u001b[1m0s\u001b[0m 16ms/step\n",
            "\u001b[1m1/1\u001b[0m \u001b[32m━━━━━━━━━━━━━━━━━━━━\u001b[0m\u001b[37m\u001b[0m \u001b[1m0s\u001b[0m 16ms/step\n",
            "\u001b[1m1/1\u001b[0m \u001b[32m━━━━━━━━━━━━━━━━━━━━\u001b[0m\u001b[37m\u001b[0m \u001b[1m0s\u001b[0m 18ms/step\n"
          ]
        },
        {
          "output_type": "execute_result",
          "data": {
            "text/plain": [
              "['she push me and my momma a crib',\n",
              " 'i dont wanna do is get is to my sex room',\n",
              " 'so i stashed it like karate kid',\n",
              " 'far as music go yo it probably did',\n",
              " 'round same time doe ran up at the door',\n",
              " 'every time i wanna pop hella bad',\n",
              " 'well make it to the grocery store',\n",
              " 'cause everything im not tryna belittle',\n",
              " 'shy and all the moments on repeat',\n",
              " 'need everybody to pull up on this one']"
            ]
          },
          "metadata": {},
          "execution_count": 15
        }
      ]
    }
  ]
}