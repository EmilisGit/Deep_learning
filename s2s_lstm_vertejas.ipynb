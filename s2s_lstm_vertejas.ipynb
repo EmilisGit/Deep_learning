{
  "nbformat": 4,
  "nbformat_minor": 0,
  "metadata": {
    "colab": {
      "provenance": [],
      "gpuType": "T4",
      "include_colab_link": true
    },
    "kernelspec": {
      "name": "python3",
      "display_name": "Python 3"
    },
    "language_info": {
      "name": "python"
    },
    "accelerator": "GPU"
  },
  "cells": [
    {
      "cell_type": "markdown",
      "metadata": {
        "id": "view-in-github",
        "colab_type": "text"
      },
      "source": [
        "<a href=\"https://colab.research.google.com/github/EmilisGit/Deep_learning/blob/main/s2s_lstm_vertejas.ipynb\" target=\"_parent\"><img src=\"https://colab.research.google.com/assets/colab-badge.svg\" alt=\"Open In Colab\"/></a>"
      ]
    },
    {
      "cell_type": "code",
      "execution_count": 1,
      "metadata": {
        "id": "srGsQtslsggC"
      },
      "outputs": [],
      "source": [
        "import numpy as np\n",
        "import pandas as pd\n",
        "from matplotlib import pyplot as plt\n",
        "from tqdm import tqdm\n",
        "import seaborn as sns\n",
        "import keras"
      ]
    },
    {
      "cell_type": "code",
      "source": [
        "!wget https://www.manythings.org/anki/spa-eng.zip"
      ],
      "metadata": {
        "colab": {
          "base_uri": "https://localhost:8080/"
        },
        "id": "QzqFPo3ltjC1",
        "outputId": "62ae58a5-e344-4e27-9301-718ce388b18f"
      },
      "execution_count": 2,
      "outputs": [
        {
          "output_type": "stream",
          "name": "stdout",
          "text": [
            "--2024-11-11 11:14:50--  https://www.manythings.org/anki/spa-eng.zip\n",
            "Resolving www.manythings.org (www.manythings.org)... 173.254.30.110\n",
            "Connecting to www.manythings.org (www.manythings.org)|173.254.30.110|:443... connected.\n",
            "HTTP request sent, awaiting response... 200 OK\n",
            "Length: 5420295 (5.2M) [application/zip]\n",
            "Saving to: ‘spa-eng.zip’\n",
            "\n",
            "spa-eng.zip         100%[===================>]   5.17M  30.9MB/s    in 0.2s    \n",
            "\n",
            "2024-11-11 11:14:50 (30.9 MB/s) - ‘spa-eng.zip’ saved [5420295/5420295]\n",
            "\n"
          ]
        }
      ]
    },
    {
      "cell_type": "markdown",
      "source": [
        "## 1. Duomenų paruošimas\n",
        "\n",
        "Dirbsime su anglų ir lietuvių kalbos tekstais:"
      ],
      "metadata": {
        "id": "ICO2ECUG0qyW"
      }
    },
    {
      "cell_type": "code",
      "source": [
        "from zipfile import ZipFile\n",
        "with ZipFile('spa-eng.zip') as zipf:\n",
        "  zipf.extract('spa.txt')"
      ],
      "metadata": {
        "id": "oXVY1fpSFstC"
      },
      "execution_count": 3,
      "outputs": []
    },
    {
      "cell_type": "code",
      "source": [
        "data = pd.read_csv('spa.txt', sep='\\t', header=None)\n",
        "\n",
        "data.columns = ['en', 'es', 'cc']\n",
        "data.sample(10)"
      ],
      "metadata": {
        "id": "GDN-mYdLzNau",
        "colab": {
          "base_uri": "https://localhost:8080/",
          "height": 363
        },
        "outputId": "98bb654c-0f4f-4980-a67d-830c8b1883e9"
      },
      "execution_count": 4,
      "outputs": [
        {
          "output_type": "execute_result",
          "data": {
            "text/plain": [
              "                                                    en  \\\n",
              "125045  The criminal was arrested and put into prison.   \n",
              "10999                                 Parties are fun.   \n",
              "91672               Don't tell anyone we've done this.   \n",
              "24194                             Clear off the table.   \n",
              "54143                       He doesn't understand you.   \n",
              "7339                                   He doesn't run.   \n",
              "71892                    Tom and Mary know each other.   \n",
              "30826                            May I eat this apple?   \n",
              "1078                                        Thank you.   \n",
              "115052       My room is three times as large as yours.   \n",
              "\n",
              "                                                       es  \\\n",
              "125045     El criminal fue arrestado y puesto en prisión.   \n",
              "10999                         Las fiestas son divertidas.   \n",
              "91672           No le digas a nadie que hemos hecho esto.   \n",
              "24194                                    Despeja la mesa.   \n",
              "54143                                     No te entiende.   \n",
              "7339                                         Él no corre.   \n",
              "71892                              Tom y Mary se conocen.   \n",
              "30826                        ¿Puedo comerme esta manzana?   \n",
              "1078                                        Gracias a ti.   \n",
              "115052  Mi habitación es tres veces más grande que la ...   \n",
              "\n",
              "                                                       cc  \n",
              "125045  CC-BY 2.0 (France) Attribution: tatoeba.org #2...  \n",
              "10999   CC-BY 2.0 (France) Attribution: tatoeba.org #1...  \n",
              "91672   CC-BY 2.0 (France) Attribution: tatoeba.org #1...  \n",
              "24194   CC-BY 2.0 (France) Attribution: tatoeba.org #3...  \n",
              "54143   CC-BY 2.0 (France) Attribution: tatoeba.org #2...  \n",
              "7339    CC-BY 2.0 (France) Attribution: tatoeba.org #2...  \n",
              "71892   CC-BY 2.0 (France) Attribution: tatoeba.org #1...  \n",
              "30826   CC-BY 2.0 (France) Attribution: tatoeba.org #1...  \n",
              "1078    CC-BY 2.0 (France) Attribution: tatoeba.org #1...  \n",
              "115052  CC-BY 2.0 (France) Attribution: tatoeba.org #2...  "
            ],
            "text/html": [
              "\n",
              "  <div id=\"df-682a7b4d-3020-4266-9b77-b49c9d53ab09\" class=\"colab-df-container\">\n",
              "    <div>\n",
              "<style scoped>\n",
              "    .dataframe tbody tr th:only-of-type {\n",
              "        vertical-align: middle;\n",
              "    }\n",
              "\n",
              "    .dataframe tbody tr th {\n",
              "        vertical-align: top;\n",
              "    }\n",
              "\n",
              "    .dataframe thead th {\n",
              "        text-align: right;\n",
              "    }\n",
              "</style>\n",
              "<table border=\"1\" class=\"dataframe\">\n",
              "  <thead>\n",
              "    <tr style=\"text-align: right;\">\n",
              "      <th></th>\n",
              "      <th>en</th>\n",
              "      <th>es</th>\n",
              "      <th>cc</th>\n",
              "    </tr>\n",
              "  </thead>\n",
              "  <tbody>\n",
              "    <tr>\n",
              "      <th>125045</th>\n",
              "      <td>The criminal was arrested and put into prison.</td>\n",
              "      <td>El criminal fue arrestado y puesto en prisión.</td>\n",
              "      <td>CC-BY 2.0 (France) Attribution: tatoeba.org #2...</td>\n",
              "    </tr>\n",
              "    <tr>\n",
              "      <th>10999</th>\n",
              "      <td>Parties are fun.</td>\n",
              "      <td>Las fiestas son divertidas.</td>\n",
              "      <td>CC-BY 2.0 (France) Attribution: tatoeba.org #1...</td>\n",
              "    </tr>\n",
              "    <tr>\n",
              "      <th>91672</th>\n",
              "      <td>Don't tell anyone we've done this.</td>\n",
              "      <td>No le digas a nadie que hemos hecho esto.</td>\n",
              "      <td>CC-BY 2.0 (France) Attribution: tatoeba.org #1...</td>\n",
              "    </tr>\n",
              "    <tr>\n",
              "      <th>24194</th>\n",
              "      <td>Clear off the table.</td>\n",
              "      <td>Despeja la mesa.</td>\n",
              "      <td>CC-BY 2.0 (France) Attribution: tatoeba.org #3...</td>\n",
              "    </tr>\n",
              "    <tr>\n",
              "      <th>54143</th>\n",
              "      <td>He doesn't understand you.</td>\n",
              "      <td>No te entiende.</td>\n",
              "      <td>CC-BY 2.0 (France) Attribution: tatoeba.org #2...</td>\n",
              "    </tr>\n",
              "    <tr>\n",
              "      <th>7339</th>\n",
              "      <td>He doesn't run.</td>\n",
              "      <td>Él no corre.</td>\n",
              "      <td>CC-BY 2.0 (France) Attribution: tatoeba.org #2...</td>\n",
              "    </tr>\n",
              "    <tr>\n",
              "      <th>71892</th>\n",
              "      <td>Tom and Mary know each other.</td>\n",
              "      <td>Tom y Mary se conocen.</td>\n",
              "      <td>CC-BY 2.0 (France) Attribution: tatoeba.org #1...</td>\n",
              "    </tr>\n",
              "    <tr>\n",
              "      <th>30826</th>\n",
              "      <td>May I eat this apple?</td>\n",
              "      <td>¿Puedo comerme esta manzana?</td>\n",
              "      <td>CC-BY 2.0 (France) Attribution: tatoeba.org #1...</td>\n",
              "    </tr>\n",
              "    <tr>\n",
              "      <th>1078</th>\n",
              "      <td>Thank you.</td>\n",
              "      <td>Gracias a ti.</td>\n",
              "      <td>CC-BY 2.0 (France) Attribution: tatoeba.org #1...</td>\n",
              "    </tr>\n",
              "    <tr>\n",
              "      <th>115052</th>\n",
              "      <td>My room is three times as large as yours.</td>\n",
              "      <td>Mi habitación es tres veces más grande que la ...</td>\n",
              "      <td>CC-BY 2.0 (France) Attribution: tatoeba.org #2...</td>\n",
              "    </tr>\n",
              "  </tbody>\n",
              "</table>\n",
              "</div>\n",
              "    <div class=\"colab-df-buttons\">\n",
              "\n",
              "  <div class=\"colab-df-container\">\n",
              "    <button class=\"colab-df-convert\" onclick=\"convertToInteractive('df-682a7b4d-3020-4266-9b77-b49c9d53ab09')\"\n",
              "            title=\"Convert this dataframe to an interactive table.\"\n",
              "            style=\"display:none;\">\n",
              "\n",
              "  <svg xmlns=\"http://www.w3.org/2000/svg\" height=\"24px\" viewBox=\"0 -960 960 960\">\n",
              "    <path d=\"M120-120v-720h720v720H120Zm60-500h600v-160H180v160Zm220 220h160v-160H400v160Zm0 220h160v-160H400v160ZM180-400h160v-160H180v160Zm440 0h160v-160H620v160ZM180-180h160v-160H180v160Zm440 0h160v-160H620v160Z\"/>\n",
              "  </svg>\n",
              "    </button>\n",
              "\n",
              "  <style>\n",
              "    .colab-df-container {\n",
              "      display:flex;\n",
              "      gap: 12px;\n",
              "    }\n",
              "\n",
              "    .colab-df-convert {\n",
              "      background-color: #E8F0FE;\n",
              "      border: none;\n",
              "      border-radius: 50%;\n",
              "      cursor: pointer;\n",
              "      display: none;\n",
              "      fill: #1967D2;\n",
              "      height: 32px;\n",
              "      padding: 0 0 0 0;\n",
              "      width: 32px;\n",
              "    }\n",
              "\n",
              "    .colab-df-convert:hover {\n",
              "      background-color: #E2EBFA;\n",
              "      box-shadow: 0px 1px 2px rgba(60, 64, 67, 0.3), 0px 1px 3px 1px rgba(60, 64, 67, 0.15);\n",
              "      fill: #174EA6;\n",
              "    }\n",
              "\n",
              "    .colab-df-buttons div {\n",
              "      margin-bottom: 4px;\n",
              "    }\n",
              "\n",
              "    [theme=dark] .colab-df-convert {\n",
              "      background-color: #3B4455;\n",
              "      fill: #D2E3FC;\n",
              "    }\n",
              "\n",
              "    [theme=dark] .colab-df-convert:hover {\n",
              "      background-color: #434B5C;\n",
              "      box-shadow: 0px 1px 3px 1px rgba(0, 0, 0, 0.15);\n",
              "      filter: drop-shadow(0px 1px 2px rgba(0, 0, 0, 0.3));\n",
              "      fill: #FFFFFF;\n",
              "    }\n",
              "  </style>\n",
              "\n",
              "    <script>\n",
              "      const buttonEl =\n",
              "        document.querySelector('#df-682a7b4d-3020-4266-9b77-b49c9d53ab09 button.colab-df-convert');\n",
              "      buttonEl.style.display =\n",
              "        google.colab.kernel.accessAllowed ? 'block' : 'none';\n",
              "\n",
              "      async function convertToInteractive(key) {\n",
              "        const element = document.querySelector('#df-682a7b4d-3020-4266-9b77-b49c9d53ab09');\n",
              "        const dataTable =\n",
              "          await google.colab.kernel.invokeFunction('convertToInteractive',\n",
              "                                                    [key], {});\n",
              "        if (!dataTable) return;\n",
              "\n",
              "        const docLinkHtml = 'Like what you see? Visit the ' +\n",
              "          '<a target=\"_blank\" href=https://colab.research.google.com/notebooks/data_table.ipynb>data table notebook</a>'\n",
              "          + ' to learn more about interactive tables.';\n",
              "        element.innerHTML = '';\n",
              "        dataTable['output_type'] = 'display_data';\n",
              "        await google.colab.output.renderOutput(dataTable, element);\n",
              "        const docLink = document.createElement('div');\n",
              "        docLink.innerHTML = docLinkHtml;\n",
              "        element.appendChild(docLink);\n",
              "      }\n",
              "    </script>\n",
              "  </div>\n",
              "\n",
              "\n",
              "<div id=\"df-bf62f25e-a29a-428a-b5f8-c2f52665d448\">\n",
              "  <button class=\"colab-df-quickchart\" onclick=\"quickchart('df-bf62f25e-a29a-428a-b5f8-c2f52665d448')\"\n",
              "            title=\"Suggest charts\"\n",
              "            style=\"display:none;\">\n",
              "\n",
              "<svg xmlns=\"http://www.w3.org/2000/svg\" height=\"24px\"viewBox=\"0 0 24 24\"\n",
              "     width=\"24px\">\n",
              "    <g>\n",
              "        <path d=\"M19 3H5c-1.1 0-2 .9-2 2v14c0 1.1.9 2 2 2h14c1.1 0 2-.9 2-2V5c0-1.1-.9-2-2-2zM9 17H7v-7h2v7zm4 0h-2V7h2v10zm4 0h-2v-4h2v4z\"/>\n",
              "    </g>\n",
              "</svg>\n",
              "  </button>\n",
              "\n",
              "<style>\n",
              "  .colab-df-quickchart {\n",
              "      --bg-color: #E8F0FE;\n",
              "      --fill-color: #1967D2;\n",
              "      --hover-bg-color: #E2EBFA;\n",
              "      --hover-fill-color: #174EA6;\n",
              "      --disabled-fill-color: #AAA;\n",
              "      --disabled-bg-color: #DDD;\n",
              "  }\n",
              "\n",
              "  [theme=dark] .colab-df-quickchart {\n",
              "      --bg-color: #3B4455;\n",
              "      --fill-color: #D2E3FC;\n",
              "      --hover-bg-color: #434B5C;\n",
              "      --hover-fill-color: #FFFFFF;\n",
              "      --disabled-bg-color: #3B4455;\n",
              "      --disabled-fill-color: #666;\n",
              "  }\n",
              "\n",
              "  .colab-df-quickchart {\n",
              "    background-color: var(--bg-color);\n",
              "    border: none;\n",
              "    border-radius: 50%;\n",
              "    cursor: pointer;\n",
              "    display: none;\n",
              "    fill: var(--fill-color);\n",
              "    height: 32px;\n",
              "    padding: 0;\n",
              "    width: 32px;\n",
              "  }\n",
              "\n",
              "  .colab-df-quickchart:hover {\n",
              "    background-color: var(--hover-bg-color);\n",
              "    box-shadow: 0 1px 2px rgba(60, 64, 67, 0.3), 0 1px 3px 1px rgba(60, 64, 67, 0.15);\n",
              "    fill: var(--button-hover-fill-color);\n",
              "  }\n",
              "\n",
              "  .colab-df-quickchart-complete:disabled,\n",
              "  .colab-df-quickchart-complete:disabled:hover {\n",
              "    background-color: var(--disabled-bg-color);\n",
              "    fill: var(--disabled-fill-color);\n",
              "    box-shadow: none;\n",
              "  }\n",
              "\n",
              "  .colab-df-spinner {\n",
              "    border: 2px solid var(--fill-color);\n",
              "    border-color: transparent;\n",
              "    border-bottom-color: var(--fill-color);\n",
              "    animation:\n",
              "      spin 1s steps(1) infinite;\n",
              "  }\n",
              "\n",
              "  @keyframes spin {\n",
              "    0% {\n",
              "      border-color: transparent;\n",
              "      border-bottom-color: var(--fill-color);\n",
              "      border-left-color: var(--fill-color);\n",
              "    }\n",
              "    20% {\n",
              "      border-color: transparent;\n",
              "      border-left-color: var(--fill-color);\n",
              "      border-top-color: var(--fill-color);\n",
              "    }\n",
              "    30% {\n",
              "      border-color: transparent;\n",
              "      border-left-color: var(--fill-color);\n",
              "      border-top-color: var(--fill-color);\n",
              "      border-right-color: var(--fill-color);\n",
              "    }\n",
              "    40% {\n",
              "      border-color: transparent;\n",
              "      border-right-color: var(--fill-color);\n",
              "      border-top-color: var(--fill-color);\n",
              "    }\n",
              "    60% {\n",
              "      border-color: transparent;\n",
              "      border-right-color: var(--fill-color);\n",
              "    }\n",
              "    80% {\n",
              "      border-color: transparent;\n",
              "      border-right-color: var(--fill-color);\n",
              "      border-bottom-color: var(--fill-color);\n",
              "    }\n",
              "    90% {\n",
              "      border-color: transparent;\n",
              "      border-bottom-color: var(--fill-color);\n",
              "    }\n",
              "  }\n",
              "</style>\n",
              "\n",
              "  <script>\n",
              "    async function quickchart(key) {\n",
              "      const quickchartButtonEl =\n",
              "        document.querySelector('#' + key + ' button');\n",
              "      quickchartButtonEl.disabled = true;  // To prevent multiple clicks.\n",
              "      quickchartButtonEl.classList.add('colab-df-spinner');\n",
              "      try {\n",
              "        const charts = await google.colab.kernel.invokeFunction(\n",
              "            'suggestCharts', [key], {});\n",
              "      } catch (error) {\n",
              "        console.error('Error during call to suggestCharts:', error);\n",
              "      }\n",
              "      quickchartButtonEl.classList.remove('colab-df-spinner');\n",
              "      quickchartButtonEl.classList.add('colab-df-quickchart-complete');\n",
              "    }\n",
              "    (() => {\n",
              "      let quickchartButtonEl =\n",
              "        document.querySelector('#df-bf62f25e-a29a-428a-b5f8-c2f52665d448 button');\n",
              "      quickchartButtonEl.style.display =\n",
              "        google.colab.kernel.accessAllowed ? 'block' : 'none';\n",
              "    })();\n",
              "  </script>\n",
              "</div>\n",
              "\n",
              "    </div>\n",
              "  </div>\n"
            ],
            "application/vnd.google.colaboratory.intrinsic+json": {
              "type": "dataframe",
              "summary": "{\n  \"name\": \"data\",\n  \"rows\": 10,\n  \"fields\": [\n    {\n      \"column\": \"en\",\n      \"properties\": {\n        \"dtype\": \"string\",\n        \"num_unique_values\": 10,\n        \"samples\": [\n          \"Thank you.\",\n          \"Parties are fun.\",\n          \"He doesn't run.\"\n        ],\n        \"semantic_type\": \"\",\n        \"description\": \"\"\n      }\n    },\n    {\n      \"column\": \"es\",\n      \"properties\": {\n        \"dtype\": \"string\",\n        \"num_unique_values\": 10,\n        \"samples\": [\n          \"Gracias a ti.\",\n          \"Las fiestas son divertidas.\",\n          \"\\u00c9l no corre.\"\n        ],\n        \"semantic_type\": \"\",\n        \"description\": \"\"\n      }\n    },\n    {\n      \"column\": \"cc\",\n      \"properties\": {\n        \"dtype\": \"string\",\n        \"num_unique_values\": 10,\n        \"samples\": [\n          \"CC-BY 2.0 (France) Attribution: tatoeba.org #1876041 (Asma) & #1876015 (Shishir)\",\n          \"CC-BY 2.0 (France) Attribution: tatoeba.org #1841590 (CK) & #5056541 (don_ramon)\",\n          \"CC-BY 2.0 (France) Attribution: tatoeba.org #2431666 (CK) & #9703903 (Shishir)\"\n        ],\n        \"semantic_type\": \"\",\n        \"description\": \"\"\n      }\n    }\n  ]\n}"
            }
          },
          "metadata": {},
          "execution_count": 4
        }
      ]
    },
    {
      "cell_type": "markdown",
      "source": [
        "Priklausomai nuo duomenų rinkinio dydžio, galime sumažinti jį:"
      ],
      "metadata": {
        "id": "88SIt3CReQ8a"
      }
    },
    {
      "cell_type": "code",
      "source": [
        "n_samples = 8000\n",
        "data = data.sample(n_samples, random_state=42)\n",
        "data.head()"
      ],
      "metadata": {
        "id": "CvB9bV_DeV2K",
        "colab": {
          "base_uri": "https://localhost:8080/",
          "height": 206
        },
        "outputId": "2f337e40-c012-4ca8-e992-0e0e1e442236"
      },
      "execution_count": 5,
      "outputs": [
        {
          "output_type": "execute_result",
          "data": {
            "text/plain": [
              "                                                       en  \\\n",
              "138916  Do you remember the day when we met each other...   \n",
              "80065                     It would be good if you ate it.   \n",
              "132496  Tom doesn't like women who wear way too much m...   \n",
              "65965                        Our water heater is leaking.   \n",
              "38472                             Don't be irresponsible.   \n",
              "\n",
              "                                                       es  \\\n",
              "138916  ¿Recuerdas el día en que nos encontramos por p...   \n",
              "80065                       Sería bueno que lo comierais.   \n",
              "132496  A Tom no le gustan las mujeres que usan demasi...   \n",
              "65965                     Nuestro calentador pierde agua.   \n",
              "38472                              No seas irresponsable.   \n",
              "\n",
              "                                                       cc  \n",
              "138916  CC-BY 2.0 (France) Attribution: tatoeba.org #3...  \n",
              "80065   CC-BY 2.0 (France) Attribution: tatoeba.org #7...  \n",
              "132496  CC-BY 2.0 (France) Attribution: tatoeba.org #1...  \n",
              "65965   CC-BY 2.0 (France) Attribution: tatoeba.org #6...  \n",
              "38472   CC-BY 2.0 (France) Attribution: tatoeba.org #9...  "
            ],
            "text/html": [
              "\n",
              "  <div id=\"df-964f0696-bd8e-4f89-8692-67c7e9ba6220\" class=\"colab-df-container\">\n",
              "    <div>\n",
              "<style scoped>\n",
              "    .dataframe tbody tr th:only-of-type {\n",
              "        vertical-align: middle;\n",
              "    }\n",
              "\n",
              "    .dataframe tbody tr th {\n",
              "        vertical-align: top;\n",
              "    }\n",
              "\n",
              "    .dataframe thead th {\n",
              "        text-align: right;\n",
              "    }\n",
              "</style>\n",
              "<table border=\"1\" class=\"dataframe\">\n",
              "  <thead>\n",
              "    <tr style=\"text-align: right;\">\n",
              "      <th></th>\n",
              "      <th>en</th>\n",
              "      <th>es</th>\n",
              "      <th>cc</th>\n",
              "    </tr>\n",
              "  </thead>\n",
              "  <tbody>\n",
              "    <tr>\n",
              "      <th>138916</th>\n",
              "      <td>Do you remember the day when we met each other...</td>\n",
              "      <td>¿Recuerdas el día en que nos encontramos por p...</td>\n",
              "      <td>CC-BY 2.0 (France) Attribution: tatoeba.org #3...</td>\n",
              "    </tr>\n",
              "    <tr>\n",
              "      <th>80065</th>\n",
              "      <td>It would be good if you ate it.</td>\n",
              "      <td>Sería bueno que lo comierais.</td>\n",
              "      <td>CC-BY 2.0 (France) Attribution: tatoeba.org #7...</td>\n",
              "    </tr>\n",
              "    <tr>\n",
              "      <th>132496</th>\n",
              "      <td>Tom doesn't like women who wear way too much m...</td>\n",
              "      <td>A Tom no le gustan las mujeres que usan demasi...</td>\n",
              "      <td>CC-BY 2.0 (France) Attribution: tatoeba.org #1...</td>\n",
              "    </tr>\n",
              "    <tr>\n",
              "      <th>65965</th>\n",
              "      <td>Our water heater is leaking.</td>\n",
              "      <td>Nuestro calentador pierde agua.</td>\n",
              "      <td>CC-BY 2.0 (France) Attribution: tatoeba.org #6...</td>\n",
              "    </tr>\n",
              "    <tr>\n",
              "      <th>38472</th>\n",
              "      <td>Don't be irresponsible.</td>\n",
              "      <td>No seas irresponsable.</td>\n",
              "      <td>CC-BY 2.0 (France) Attribution: tatoeba.org #9...</td>\n",
              "    </tr>\n",
              "  </tbody>\n",
              "</table>\n",
              "</div>\n",
              "    <div class=\"colab-df-buttons\">\n",
              "\n",
              "  <div class=\"colab-df-container\">\n",
              "    <button class=\"colab-df-convert\" onclick=\"convertToInteractive('df-964f0696-bd8e-4f89-8692-67c7e9ba6220')\"\n",
              "            title=\"Convert this dataframe to an interactive table.\"\n",
              "            style=\"display:none;\">\n",
              "\n",
              "  <svg xmlns=\"http://www.w3.org/2000/svg\" height=\"24px\" viewBox=\"0 -960 960 960\">\n",
              "    <path d=\"M120-120v-720h720v720H120Zm60-500h600v-160H180v160Zm220 220h160v-160H400v160Zm0 220h160v-160H400v160ZM180-400h160v-160H180v160Zm440 0h160v-160H620v160ZM180-180h160v-160H180v160Zm440 0h160v-160H620v160Z\"/>\n",
              "  </svg>\n",
              "    </button>\n",
              "\n",
              "  <style>\n",
              "    .colab-df-container {\n",
              "      display:flex;\n",
              "      gap: 12px;\n",
              "    }\n",
              "\n",
              "    .colab-df-convert {\n",
              "      background-color: #E8F0FE;\n",
              "      border: none;\n",
              "      border-radius: 50%;\n",
              "      cursor: pointer;\n",
              "      display: none;\n",
              "      fill: #1967D2;\n",
              "      height: 32px;\n",
              "      padding: 0 0 0 0;\n",
              "      width: 32px;\n",
              "    }\n",
              "\n",
              "    .colab-df-convert:hover {\n",
              "      background-color: #E2EBFA;\n",
              "      box-shadow: 0px 1px 2px rgba(60, 64, 67, 0.3), 0px 1px 3px 1px rgba(60, 64, 67, 0.15);\n",
              "      fill: #174EA6;\n",
              "    }\n",
              "\n",
              "    .colab-df-buttons div {\n",
              "      margin-bottom: 4px;\n",
              "    }\n",
              "\n",
              "    [theme=dark] .colab-df-convert {\n",
              "      background-color: #3B4455;\n",
              "      fill: #D2E3FC;\n",
              "    }\n",
              "\n",
              "    [theme=dark] .colab-df-convert:hover {\n",
              "      background-color: #434B5C;\n",
              "      box-shadow: 0px 1px 3px 1px rgba(0, 0, 0, 0.15);\n",
              "      filter: drop-shadow(0px 1px 2px rgba(0, 0, 0, 0.3));\n",
              "      fill: #FFFFFF;\n",
              "    }\n",
              "  </style>\n",
              "\n",
              "    <script>\n",
              "      const buttonEl =\n",
              "        document.querySelector('#df-964f0696-bd8e-4f89-8692-67c7e9ba6220 button.colab-df-convert');\n",
              "      buttonEl.style.display =\n",
              "        google.colab.kernel.accessAllowed ? 'block' : 'none';\n",
              "\n",
              "      async function convertToInteractive(key) {\n",
              "        const element = document.querySelector('#df-964f0696-bd8e-4f89-8692-67c7e9ba6220');\n",
              "        const dataTable =\n",
              "          await google.colab.kernel.invokeFunction('convertToInteractive',\n",
              "                                                    [key], {});\n",
              "        if (!dataTable) return;\n",
              "\n",
              "        const docLinkHtml = 'Like what you see? Visit the ' +\n",
              "          '<a target=\"_blank\" href=https://colab.research.google.com/notebooks/data_table.ipynb>data table notebook</a>'\n",
              "          + ' to learn more about interactive tables.';\n",
              "        element.innerHTML = '';\n",
              "        dataTable['output_type'] = 'display_data';\n",
              "        await google.colab.output.renderOutput(dataTable, element);\n",
              "        const docLink = document.createElement('div');\n",
              "        docLink.innerHTML = docLinkHtml;\n",
              "        element.appendChild(docLink);\n",
              "      }\n",
              "    </script>\n",
              "  </div>\n",
              "\n",
              "\n",
              "<div id=\"df-9e6cd8d5-901d-43f3-81b5-994afbfa017d\">\n",
              "  <button class=\"colab-df-quickchart\" onclick=\"quickchart('df-9e6cd8d5-901d-43f3-81b5-994afbfa017d')\"\n",
              "            title=\"Suggest charts\"\n",
              "            style=\"display:none;\">\n",
              "\n",
              "<svg xmlns=\"http://www.w3.org/2000/svg\" height=\"24px\"viewBox=\"0 0 24 24\"\n",
              "     width=\"24px\">\n",
              "    <g>\n",
              "        <path d=\"M19 3H5c-1.1 0-2 .9-2 2v14c0 1.1.9 2 2 2h14c1.1 0 2-.9 2-2V5c0-1.1-.9-2-2-2zM9 17H7v-7h2v7zm4 0h-2V7h2v10zm4 0h-2v-4h2v4z\"/>\n",
              "    </g>\n",
              "</svg>\n",
              "  </button>\n",
              "\n",
              "<style>\n",
              "  .colab-df-quickchart {\n",
              "      --bg-color: #E8F0FE;\n",
              "      --fill-color: #1967D2;\n",
              "      --hover-bg-color: #E2EBFA;\n",
              "      --hover-fill-color: #174EA6;\n",
              "      --disabled-fill-color: #AAA;\n",
              "      --disabled-bg-color: #DDD;\n",
              "  }\n",
              "\n",
              "  [theme=dark] .colab-df-quickchart {\n",
              "      --bg-color: #3B4455;\n",
              "      --fill-color: #D2E3FC;\n",
              "      --hover-bg-color: #434B5C;\n",
              "      --hover-fill-color: #FFFFFF;\n",
              "      --disabled-bg-color: #3B4455;\n",
              "      --disabled-fill-color: #666;\n",
              "  }\n",
              "\n",
              "  .colab-df-quickchart {\n",
              "    background-color: var(--bg-color);\n",
              "    border: none;\n",
              "    border-radius: 50%;\n",
              "    cursor: pointer;\n",
              "    display: none;\n",
              "    fill: var(--fill-color);\n",
              "    height: 32px;\n",
              "    padding: 0;\n",
              "    width: 32px;\n",
              "  }\n",
              "\n",
              "  .colab-df-quickchart:hover {\n",
              "    background-color: var(--hover-bg-color);\n",
              "    box-shadow: 0 1px 2px rgba(60, 64, 67, 0.3), 0 1px 3px 1px rgba(60, 64, 67, 0.15);\n",
              "    fill: var(--button-hover-fill-color);\n",
              "  }\n",
              "\n",
              "  .colab-df-quickchart-complete:disabled,\n",
              "  .colab-df-quickchart-complete:disabled:hover {\n",
              "    background-color: var(--disabled-bg-color);\n",
              "    fill: var(--disabled-fill-color);\n",
              "    box-shadow: none;\n",
              "  }\n",
              "\n",
              "  .colab-df-spinner {\n",
              "    border: 2px solid var(--fill-color);\n",
              "    border-color: transparent;\n",
              "    border-bottom-color: var(--fill-color);\n",
              "    animation:\n",
              "      spin 1s steps(1) infinite;\n",
              "  }\n",
              "\n",
              "  @keyframes spin {\n",
              "    0% {\n",
              "      border-color: transparent;\n",
              "      border-bottom-color: var(--fill-color);\n",
              "      border-left-color: var(--fill-color);\n",
              "    }\n",
              "    20% {\n",
              "      border-color: transparent;\n",
              "      border-left-color: var(--fill-color);\n",
              "      border-top-color: var(--fill-color);\n",
              "    }\n",
              "    30% {\n",
              "      border-color: transparent;\n",
              "      border-left-color: var(--fill-color);\n",
              "      border-top-color: var(--fill-color);\n",
              "      border-right-color: var(--fill-color);\n",
              "    }\n",
              "    40% {\n",
              "      border-color: transparent;\n",
              "      border-right-color: var(--fill-color);\n",
              "      border-top-color: var(--fill-color);\n",
              "    }\n",
              "    60% {\n",
              "      border-color: transparent;\n",
              "      border-right-color: var(--fill-color);\n",
              "    }\n",
              "    80% {\n",
              "      border-color: transparent;\n",
              "      border-right-color: var(--fill-color);\n",
              "      border-bottom-color: var(--fill-color);\n",
              "    }\n",
              "    90% {\n",
              "      border-color: transparent;\n",
              "      border-bottom-color: var(--fill-color);\n",
              "    }\n",
              "  }\n",
              "</style>\n",
              "\n",
              "  <script>\n",
              "    async function quickchart(key) {\n",
              "      const quickchartButtonEl =\n",
              "        document.querySelector('#' + key + ' button');\n",
              "      quickchartButtonEl.disabled = true;  // To prevent multiple clicks.\n",
              "      quickchartButtonEl.classList.add('colab-df-spinner');\n",
              "      try {\n",
              "        const charts = await google.colab.kernel.invokeFunction(\n",
              "            'suggestCharts', [key], {});\n",
              "      } catch (error) {\n",
              "        console.error('Error during call to suggestCharts:', error);\n",
              "      }\n",
              "      quickchartButtonEl.classList.remove('colab-df-spinner');\n",
              "      quickchartButtonEl.classList.add('colab-df-quickchart-complete');\n",
              "    }\n",
              "    (() => {\n",
              "      let quickchartButtonEl =\n",
              "        document.querySelector('#df-9e6cd8d5-901d-43f3-81b5-994afbfa017d button');\n",
              "      quickchartButtonEl.style.display =\n",
              "        google.colab.kernel.accessAllowed ? 'block' : 'none';\n",
              "    })();\n",
              "  </script>\n",
              "</div>\n",
              "\n",
              "    </div>\n",
              "  </div>\n"
            ],
            "application/vnd.google.colaboratory.intrinsic+json": {
              "type": "dataframe",
              "variable_name": "data",
              "summary": "{\n  \"name\": \"data\",\n  \"rows\": 8000,\n  \"fields\": [\n    {\n      \"column\": \"en\",\n      \"properties\": {\n        \"dtype\": \"string\",\n        \"num_unique_values\": 7886,\n        \"samples\": [\n          \"Why do you want to talk with Tom?\",\n          \"He jumped on the train.\",\n          \"His accomplishments speak for themselves.\"\n        ],\n        \"semantic_type\": \"\",\n        \"description\": \"\"\n      }\n    },\n    {\n      \"column\": \"es\",\n      \"properties\": {\n        \"dtype\": \"string\",\n        \"num_unique_values\": 7969,\n        \"samples\": [\n          \"Tom dej\\u00f3 la escuela de bartenders.\",\n          \"Prefiero quedarme aqu\\u00ed mejor.\",\n          \"Aqu\\u00ed tienes.\"\n        ],\n        \"semantic_type\": \"\",\n        \"description\": \"\"\n      }\n    },\n    {\n      \"column\": \"cc\",\n      \"properties\": {\n        \"dtype\": \"string\",\n        \"num_unique_values\": 8000,\n        \"samples\": [\n          \"CC-BY 2.0 (France) Attribution: tatoeba.org #909576 (CK) & #1322597 (Shishir)\",\n          \"CC-BY 2.0 (France) Attribution: tatoeba.org #603951 (qdii) & #1249544 (Shishir)\",\n          \"CC-BY 2.0 (France) Attribution: tatoeba.org #310485 (CK) & #1543294 (marcelostockle)\"\n        ],\n        \"semantic_type\": \"\",\n        \"description\": \"\"\n      }\n    }\n  ]\n}"
            }
          },
          "metadata": {},
          "execution_count": 5
        }
      ]
    },
    {
      "cell_type": "markdown",
      "source": [
        "Paruošiame sekas: turime nustatyti sekos pradžios ir galo simbolius prognozuojamoms sekoms. Standartinis metodas būtų pradžiai naudoti `\\t` ir galui `\\n`, nes šių simbolių įprastai nebūna sakiniuose:"
      ],
      "metadata": {
        "id": "D-GQxRykR6CR"
      }
    },
    {
      "cell_type": "code",
      "source": [
        "START, STOP = '\\t', '\\n'\n",
        "data['input'] = data['es']\n",
        "data['output'] = START + data['en'] + STOP\n",
        "data = data.reset_index(drop=True)\n",
        "data.head()"
      ],
      "metadata": {
        "id": "lKGBGkU1R6X6",
        "colab": {
          "base_uri": "https://localhost:8080/",
          "height": 293
        },
        "outputId": "1ec28aed-98e1-48fc-a837-1cf216fd1e3c"
      },
      "execution_count": 6,
      "outputs": [
        {
          "output_type": "execute_result",
          "data": {
            "text/plain": [
              "                                                  en  \\\n",
              "0  Do you remember the day when we met each other...   \n",
              "1                    It would be good if you ate it.   \n",
              "2  Tom doesn't like women who wear way too much m...   \n",
              "3                       Our water heater is leaking.   \n",
              "4                            Don't be irresponsible.   \n",
              "\n",
              "                                                  es  \\\n",
              "0  ¿Recuerdas el día en que nos encontramos por p...   \n",
              "1                      Sería bueno que lo comierais.   \n",
              "2  A Tom no le gustan las mujeres que usan demasi...   \n",
              "3                    Nuestro calentador pierde agua.   \n",
              "4                             No seas irresponsable.   \n",
              "\n",
              "                                                  cc  \\\n",
              "0  CC-BY 2.0 (France) Attribution: tatoeba.org #3...   \n",
              "1  CC-BY 2.0 (France) Attribution: tatoeba.org #7...   \n",
              "2  CC-BY 2.0 (France) Attribution: tatoeba.org #1...   \n",
              "3  CC-BY 2.0 (France) Attribution: tatoeba.org #6...   \n",
              "4  CC-BY 2.0 (France) Attribution: tatoeba.org #9...   \n",
              "\n",
              "                                               input  \\\n",
              "0  ¿Recuerdas el día en que nos encontramos por p...   \n",
              "1                      Sería bueno que lo comierais.   \n",
              "2  A Tom no le gustan las mujeres que usan demasi...   \n",
              "3                    Nuestro calentador pierde agua.   \n",
              "4                             No seas irresponsable.   \n",
              "\n",
              "                                              output  \n",
              "0  \\tDo you remember the day when we met each oth...  \n",
              "1                \\tIt would be good if you ate it.\\n  \n",
              "2  \\tTom doesn't like women who wear way too much...  \n",
              "3                   \\tOur water heater is leaking.\\n  \n",
              "4                        \\tDon't be irresponsible.\\n  "
            ],
            "text/html": [
              "\n",
              "  <div id=\"df-12d4cc54-4cf5-4f1e-9eda-124ffbcb79a1\" class=\"colab-df-container\">\n",
              "    <div>\n",
              "<style scoped>\n",
              "    .dataframe tbody tr th:only-of-type {\n",
              "        vertical-align: middle;\n",
              "    }\n",
              "\n",
              "    .dataframe tbody tr th {\n",
              "        vertical-align: top;\n",
              "    }\n",
              "\n",
              "    .dataframe thead th {\n",
              "        text-align: right;\n",
              "    }\n",
              "</style>\n",
              "<table border=\"1\" class=\"dataframe\">\n",
              "  <thead>\n",
              "    <tr style=\"text-align: right;\">\n",
              "      <th></th>\n",
              "      <th>en</th>\n",
              "      <th>es</th>\n",
              "      <th>cc</th>\n",
              "      <th>input</th>\n",
              "      <th>output</th>\n",
              "    </tr>\n",
              "  </thead>\n",
              "  <tbody>\n",
              "    <tr>\n",
              "      <th>0</th>\n",
              "      <td>Do you remember the day when we met each other...</td>\n",
              "      <td>¿Recuerdas el día en que nos encontramos por p...</td>\n",
              "      <td>CC-BY 2.0 (France) Attribution: tatoeba.org #3...</td>\n",
              "      <td>¿Recuerdas el día en que nos encontramos por p...</td>\n",
              "      <td>\\tDo you remember the day when we met each oth...</td>\n",
              "    </tr>\n",
              "    <tr>\n",
              "      <th>1</th>\n",
              "      <td>It would be good if you ate it.</td>\n",
              "      <td>Sería bueno que lo comierais.</td>\n",
              "      <td>CC-BY 2.0 (France) Attribution: tatoeba.org #7...</td>\n",
              "      <td>Sería bueno que lo comierais.</td>\n",
              "      <td>\\tIt would be good if you ate it.\\n</td>\n",
              "    </tr>\n",
              "    <tr>\n",
              "      <th>2</th>\n",
              "      <td>Tom doesn't like women who wear way too much m...</td>\n",
              "      <td>A Tom no le gustan las mujeres que usan demasi...</td>\n",
              "      <td>CC-BY 2.0 (France) Attribution: tatoeba.org #1...</td>\n",
              "      <td>A Tom no le gustan las mujeres que usan demasi...</td>\n",
              "      <td>\\tTom doesn't like women who wear way too much...</td>\n",
              "    </tr>\n",
              "    <tr>\n",
              "      <th>3</th>\n",
              "      <td>Our water heater is leaking.</td>\n",
              "      <td>Nuestro calentador pierde agua.</td>\n",
              "      <td>CC-BY 2.0 (France) Attribution: tatoeba.org #6...</td>\n",
              "      <td>Nuestro calentador pierde agua.</td>\n",
              "      <td>\\tOur water heater is leaking.\\n</td>\n",
              "    </tr>\n",
              "    <tr>\n",
              "      <th>4</th>\n",
              "      <td>Don't be irresponsible.</td>\n",
              "      <td>No seas irresponsable.</td>\n",
              "      <td>CC-BY 2.0 (France) Attribution: tatoeba.org #9...</td>\n",
              "      <td>No seas irresponsable.</td>\n",
              "      <td>\\tDon't be irresponsible.\\n</td>\n",
              "    </tr>\n",
              "  </tbody>\n",
              "</table>\n",
              "</div>\n",
              "    <div class=\"colab-df-buttons\">\n",
              "\n",
              "  <div class=\"colab-df-container\">\n",
              "    <button class=\"colab-df-convert\" onclick=\"convertToInteractive('df-12d4cc54-4cf5-4f1e-9eda-124ffbcb79a1')\"\n",
              "            title=\"Convert this dataframe to an interactive table.\"\n",
              "            style=\"display:none;\">\n",
              "\n",
              "  <svg xmlns=\"http://www.w3.org/2000/svg\" height=\"24px\" viewBox=\"0 -960 960 960\">\n",
              "    <path d=\"M120-120v-720h720v720H120Zm60-500h600v-160H180v160Zm220 220h160v-160H400v160Zm0 220h160v-160H400v160ZM180-400h160v-160H180v160Zm440 0h160v-160H620v160ZM180-180h160v-160H180v160Zm440 0h160v-160H620v160Z\"/>\n",
              "  </svg>\n",
              "    </button>\n",
              "\n",
              "  <style>\n",
              "    .colab-df-container {\n",
              "      display:flex;\n",
              "      gap: 12px;\n",
              "    }\n",
              "\n",
              "    .colab-df-convert {\n",
              "      background-color: #E8F0FE;\n",
              "      border: none;\n",
              "      border-radius: 50%;\n",
              "      cursor: pointer;\n",
              "      display: none;\n",
              "      fill: #1967D2;\n",
              "      height: 32px;\n",
              "      padding: 0 0 0 0;\n",
              "      width: 32px;\n",
              "    }\n",
              "\n",
              "    .colab-df-convert:hover {\n",
              "      background-color: #E2EBFA;\n",
              "      box-shadow: 0px 1px 2px rgba(60, 64, 67, 0.3), 0px 1px 3px 1px rgba(60, 64, 67, 0.15);\n",
              "      fill: #174EA6;\n",
              "    }\n",
              "\n",
              "    .colab-df-buttons div {\n",
              "      margin-bottom: 4px;\n",
              "    }\n",
              "\n",
              "    [theme=dark] .colab-df-convert {\n",
              "      background-color: #3B4455;\n",
              "      fill: #D2E3FC;\n",
              "    }\n",
              "\n",
              "    [theme=dark] .colab-df-convert:hover {\n",
              "      background-color: #434B5C;\n",
              "      box-shadow: 0px 1px 3px 1px rgba(0, 0, 0, 0.15);\n",
              "      filter: drop-shadow(0px 1px 2px rgba(0, 0, 0, 0.3));\n",
              "      fill: #FFFFFF;\n",
              "    }\n",
              "  </style>\n",
              "\n",
              "    <script>\n",
              "      const buttonEl =\n",
              "        document.querySelector('#df-12d4cc54-4cf5-4f1e-9eda-124ffbcb79a1 button.colab-df-convert');\n",
              "      buttonEl.style.display =\n",
              "        google.colab.kernel.accessAllowed ? 'block' : 'none';\n",
              "\n",
              "      async function convertToInteractive(key) {\n",
              "        const element = document.querySelector('#df-12d4cc54-4cf5-4f1e-9eda-124ffbcb79a1');\n",
              "        const dataTable =\n",
              "          await google.colab.kernel.invokeFunction('convertToInteractive',\n",
              "                                                    [key], {});\n",
              "        if (!dataTable) return;\n",
              "\n",
              "        const docLinkHtml = 'Like what you see? Visit the ' +\n",
              "          '<a target=\"_blank\" href=https://colab.research.google.com/notebooks/data_table.ipynb>data table notebook</a>'\n",
              "          + ' to learn more about interactive tables.';\n",
              "        element.innerHTML = '';\n",
              "        dataTable['output_type'] = 'display_data';\n",
              "        await google.colab.output.renderOutput(dataTable, element);\n",
              "        const docLink = document.createElement('div');\n",
              "        docLink.innerHTML = docLinkHtml;\n",
              "        element.appendChild(docLink);\n",
              "      }\n",
              "    </script>\n",
              "  </div>\n",
              "\n",
              "\n",
              "<div id=\"df-fe68df9b-8c28-48a0-9dc4-664e6d433a71\">\n",
              "  <button class=\"colab-df-quickchart\" onclick=\"quickchart('df-fe68df9b-8c28-48a0-9dc4-664e6d433a71')\"\n",
              "            title=\"Suggest charts\"\n",
              "            style=\"display:none;\">\n",
              "\n",
              "<svg xmlns=\"http://www.w3.org/2000/svg\" height=\"24px\"viewBox=\"0 0 24 24\"\n",
              "     width=\"24px\">\n",
              "    <g>\n",
              "        <path d=\"M19 3H5c-1.1 0-2 .9-2 2v14c0 1.1.9 2 2 2h14c1.1 0 2-.9 2-2V5c0-1.1-.9-2-2-2zM9 17H7v-7h2v7zm4 0h-2V7h2v10zm4 0h-2v-4h2v4z\"/>\n",
              "    </g>\n",
              "</svg>\n",
              "  </button>\n",
              "\n",
              "<style>\n",
              "  .colab-df-quickchart {\n",
              "      --bg-color: #E8F0FE;\n",
              "      --fill-color: #1967D2;\n",
              "      --hover-bg-color: #E2EBFA;\n",
              "      --hover-fill-color: #174EA6;\n",
              "      --disabled-fill-color: #AAA;\n",
              "      --disabled-bg-color: #DDD;\n",
              "  }\n",
              "\n",
              "  [theme=dark] .colab-df-quickchart {\n",
              "      --bg-color: #3B4455;\n",
              "      --fill-color: #D2E3FC;\n",
              "      --hover-bg-color: #434B5C;\n",
              "      --hover-fill-color: #FFFFFF;\n",
              "      --disabled-bg-color: #3B4455;\n",
              "      --disabled-fill-color: #666;\n",
              "  }\n",
              "\n",
              "  .colab-df-quickchart {\n",
              "    background-color: var(--bg-color);\n",
              "    border: none;\n",
              "    border-radius: 50%;\n",
              "    cursor: pointer;\n",
              "    display: none;\n",
              "    fill: var(--fill-color);\n",
              "    height: 32px;\n",
              "    padding: 0;\n",
              "    width: 32px;\n",
              "  }\n",
              "\n",
              "  .colab-df-quickchart:hover {\n",
              "    background-color: var(--hover-bg-color);\n",
              "    box-shadow: 0 1px 2px rgba(60, 64, 67, 0.3), 0 1px 3px 1px rgba(60, 64, 67, 0.15);\n",
              "    fill: var(--button-hover-fill-color);\n",
              "  }\n",
              "\n",
              "  .colab-df-quickchart-complete:disabled,\n",
              "  .colab-df-quickchart-complete:disabled:hover {\n",
              "    background-color: var(--disabled-bg-color);\n",
              "    fill: var(--disabled-fill-color);\n",
              "    box-shadow: none;\n",
              "  }\n",
              "\n",
              "  .colab-df-spinner {\n",
              "    border: 2px solid var(--fill-color);\n",
              "    border-color: transparent;\n",
              "    border-bottom-color: var(--fill-color);\n",
              "    animation:\n",
              "      spin 1s steps(1) infinite;\n",
              "  }\n",
              "\n",
              "  @keyframes spin {\n",
              "    0% {\n",
              "      border-color: transparent;\n",
              "      border-bottom-color: var(--fill-color);\n",
              "      border-left-color: var(--fill-color);\n",
              "    }\n",
              "    20% {\n",
              "      border-color: transparent;\n",
              "      border-left-color: var(--fill-color);\n",
              "      border-top-color: var(--fill-color);\n",
              "    }\n",
              "    30% {\n",
              "      border-color: transparent;\n",
              "      border-left-color: var(--fill-color);\n",
              "      border-top-color: var(--fill-color);\n",
              "      border-right-color: var(--fill-color);\n",
              "    }\n",
              "    40% {\n",
              "      border-color: transparent;\n",
              "      border-right-color: var(--fill-color);\n",
              "      border-top-color: var(--fill-color);\n",
              "    }\n",
              "    60% {\n",
              "      border-color: transparent;\n",
              "      border-right-color: var(--fill-color);\n",
              "    }\n",
              "    80% {\n",
              "      border-color: transparent;\n",
              "      border-right-color: var(--fill-color);\n",
              "      border-bottom-color: var(--fill-color);\n",
              "    }\n",
              "    90% {\n",
              "      border-color: transparent;\n",
              "      border-bottom-color: var(--fill-color);\n",
              "    }\n",
              "  }\n",
              "</style>\n",
              "\n",
              "  <script>\n",
              "    async function quickchart(key) {\n",
              "      const quickchartButtonEl =\n",
              "        document.querySelector('#' + key + ' button');\n",
              "      quickchartButtonEl.disabled = true;  // To prevent multiple clicks.\n",
              "      quickchartButtonEl.classList.add('colab-df-spinner');\n",
              "      try {\n",
              "        const charts = await google.colab.kernel.invokeFunction(\n",
              "            'suggestCharts', [key], {});\n",
              "      } catch (error) {\n",
              "        console.error('Error during call to suggestCharts:', error);\n",
              "      }\n",
              "      quickchartButtonEl.classList.remove('colab-df-spinner');\n",
              "      quickchartButtonEl.classList.add('colab-df-quickchart-complete');\n",
              "    }\n",
              "    (() => {\n",
              "      let quickchartButtonEl =\n",
              "        document.querySelector('#df-fe68df9b-8c28-48a0-9dc4-664e6d433a71 button');\n",
              "      quickchartButtonEl.style.display =\n",
              "        google.colab.kernel.accessAllowed ? 'block' : 'none';\n",
              "    })();\n",
              "  </script>\n",
              "</div>\n",
              "\n",
              "    </div>\n",
              "  </div>\n"
            ],
            "application/vnd.google.colaboratory.intrinsic+json": {
              "type": "dataframe",
              "variable_name": "data",
              "summary": "{\n  \"name\": \"data\",\n  \"rows\": 8000,\n  \"fields\": [\n    {\n      \"column\": \"en\",\n      \"properties\": {\n        \"dtype\": \"string\",\n        \"num_unique_values\": 7886,\n        \"samples\": [\n          \"Why do you want to talk with Tom?\",\n          \"He jumped on the train.\",\n          \"His accomplishments speak for themselves.\"\n        ],\n        \"semantic_type\": \"\",\n        \"description\": \"\"\n      }\n    },\n    {\n      \"column\": \"es\",\n      \"properties\": {\n        \"dtype\": \"string\",\n        \"num_unique_values\": 7969,\n        \"samples\": [\n          \"Tom dej\\u00f3 la escuela de bartenders.\",\n          \"Prefiero quedarme aqu\\u00ed mejor.\",\n          \"Aqu\\u00ed tienes.\"\n        ],\n        \"semantic_type\": \"\",\n        \"description\": \"\"\n      }\n    },\n    {\n      \"column\": \"cc\",\n      \"properties\": {\n        \"dtype\": \"string\",\n        \"num_unique_values\": 8000,\n        \"samples\": [\n          \"CC-BY 2.0 (France) Attribution: tatoeba.org #909576 (CK) & #1322597 (Shishir)\",\n          \"CC-BY 2.0 (France) Attribution: tatoeba.org #603951 (qdii) & #1249544 (Shishir)\",\n          \"CC-BY 2.0 (France) Attribution: tatoeba.org #310485 (CK) & #1543294 (marcelostockle)\"\n        ],\n        \"semantic_type\": \"\",\n        \"description\": \"\"\n      }\n    },\n    {\n      \"column\": \"input\",\n      \"properties\": {\n        \"dtype\": \"string\",\n        \"num_unique_values\": 7969,\n        \"samples\": [\n          \"Tom dej\\u00f3 la escuela de bartenders.\",\n          \"Prefiero quedarme aqu\\u00ed mejor.\",\n          \"Aqu\\u00ed tienes.\"\n        ],\n        \"semantic_type\": \"\",\n        \"description\": \"\"\n      }\n    },\n    {\n      \"column\": \"output\",\n      \"properties\": {\n        \"dtype\": \"string\",\n        \"num_unique_values\": 7886,\n        \"samples\": [\n          \"\\tWhy do you want to talk with Tom?\\n\",\n          \"\\tHe jumped on the train.\\n\",\n          \"\\tHis accomplishments speak for themselves.\\n\"\n        ],\n        \"semantic_type\": \"\",\n        \"description\": \"\"\n      }\n    }\n  ]\n}"
            }
          },
          "metadata": {},
          "execution_count": 6
        }
      ]
    },
    {
      "cell_type": "markdown",
      "source": [
        "Generuosime sekas naudojant simbolius, todėl iš pradžių reikia rasti visus unikalius simbolius:"
      ],
      "metadata": {
        "id": "TuNJhx-L0tEF"
      }
    },
    {
      "cell_type": "code",
      "source": [
        "simboliai = [x for x in data['input']]\n",
        "in_token_set = set(''.join(simboliai))\n",
        "\n",
        "simboliai = [x for x in data['output']]\n",
        "out_token_set = set(''.join(simboliai))\n",
        "\n",
        "print(\"\\n\" , \"\".join(sorted(in_token_set)))\n",
        "\n",
        "print(\"\".join(sorted(out_token_set)))"
      ],
      "metadata": {
        "id": "tvuyLtKSzVsF",
        "colab": {
          "base_uri": "https://localhost:8080/"
        },
        "outputId": "2774ae99-700d-43f8-f1c6-5aa6c68c8680"
      },
      "execution_count": 7,
      "outputs": [
        {
          "output_type": "stream",
          "name": "stdout",
          "text": [
            "\n",
            "  !\"$%',-.0123456789:;?ABCDEFGHIJKLMNOPQRSTUVXYZabcdefghijklmnopqrstuvwxyz¡«º»¿ÁÉÓáéíñóúü\n",
            "\t\n",
            " !\"$%',-.0123456789:;?ABCDEFGHIJKLMNOPQRSTUVWYabcdefghijklmnopqrstuvwxyzáé’\n"
          ]
        }
      ]
    },
    {
      "cell_type": "markdown",
      "source": [
        "Užkoduojame simbolius skaičiais:"
      ],
      "metadata": {
        "id": "qHlCzdC64CB_"
      }
    },
    {
      "cell_type": "code",
      "source": [
        "in_tokens_dict = {c: i for i, c in enumerate(sorted(in_token_set))}\n",
        "out_tokens_dict = {c: i for i, c in enumerate(sorted(out_token_set))}"
      ],
      "metadata": {
        "id": "5RJqOec44GPd"
      },
      "execution_count": 8,
      "outputs": []
    },
    {
      "cell_type": "markdown",
      "source": [
        "Randame ilgiausias sekas:"
      ],
      "metadata": {
        "id": "NcuDAuqU3glZ"
      }
    },
    {
      "cell_type": "code",
      "source": [
        "MAX_IN_LEN = data['input'].str.len().max()\n",
        "MAX_OUT_LEN = data['output'].str.len().max()\n",
        "print(MAX_IN_LEN, MAX_OUT_LEN)"
      ],
      "metadata": {
        "id": "9B4QYZu_3i6X",
        "colab": {
          "base_uri": "https://localhost:8080/"
        },
        "outputId": "b1ac4ad3-3521-4956-fbbe-05c7a73b98ed"
      },
      "execution_count": 9,
      "outputs": [
        {
          "output_type": "stream",
          "name": "stdout",
          "text": [
            "146 133\n"
          ]
        }
      ]
    },
    {
      "cell_type": "markdown",
      "source": [
        "Dabar reika paruošti apmokymo ir testavimo rinkinius.\n",
        "\n",
        "Modelis turės dvi dalis: enkoderį ir dekoderį.\n",
        "- Enkoderis gauna sakinį (simbolių seką) ir konvertuoja ją į būsenos vektorius (angl. *state vectors*).\n",
        "- Dekoderis gauna pirmą sekos simbolį (kuris mūsų atveju bus `\\t`) bei enkoderio vektorius, ir prognozuoja sekančius simbolius vienas po vieno. Mokymosi metu, kiekvieną kartą prieš sekančio simbolio prognozavimą, dekoderis gauna teisingus simbolius; o jau išvadų darymo (angl. *inference*) metu teisingų simbolių negauna ir naudoja savo spėjimus.\n",
        "\n",
        "Mokymui turime teisingai paruošti duomenų rinkinius. Abu rinkiniai, enkoderiui ir dekoderiui, bus tokio pavidalo: (M, N, K), kur M - mėginių kiekis, N - maksimalus sekos ilgis, ir K - simbolių tokenų kiekis.\n",
        "\n",
        "Inicializuojame tuščias matricas:\n",
        "\n"
      ],
      "metadata": {
        "id": "83vedwKl6OYb"
      }
    },
    {
      "cell_type": "code",
      "source": [
        "n_samples = len(data)\n",
        "\n",
        "encoder_in_data = np.zeros((n_samples, MAX_IN_LEN, len(in_tokens_dict)), dtype='float32')\n",
        "decoder_in_data = np.zeros((n_samples, MAX_OUT_LEN, len(out_tokens_dict)), dtype='float32')\n",
        "decoder_out_data = np.zeros((n_samples, MAX_OUT_LEN, len(out_tokens_dict)), dtype='float32')"
      ],
      "metadata": {
        "id": "s7DcuGI88d76"
      },
      "execution_count": 10,
      "outputs": []
    },
    {
      "cell_type": "markdown",
      "source": [
        "Paruošiame sakinio tokenizavimo funkciją:"
      ],
      "metadata": {
        "id": "wshErtCVQu5H"
      }
    },
    {
      "cell_type": "code",
      "source": [
        "def sentence2seq(sentence: str, tokens_dict: dict, max_len: int) -> np.ndarray:\n",
        "  seq = np.zeros((max_len, len(tokens_dict)))\n",
        "  for i, c in enumerate(sentence):\n",
        "    seq[i, tokens_dict[c]] = 1.0\n",
        "  seq[i+1:, tokens_dict[\" \"]] = 1.0\n",
        "  return seq"
      ],
      "metadata": {
        "id": "WplO625mQzDG"
      },
      "execution_count": 11,
      "outputs": []
    },
    {
      "cell_type": "markdown",
      "source": [
        "Dabar reikia užpildyti matricas skaičiais:"
      ],
      "metadata": {
        "id": "xAZzaEZ68-sA"
      }
    },
    {
      "cell_type": "code",
      "source": [
        "for i in range(len(data)):\n",
        "  i_text = data.loc[i]['input']\n",
        "  o_text = data.loc[i]['output']\n",
        "\n",
        "  encoder_seq = sentence2seq(i_text, in_tokens_dict, MAX_IN_LEN)\n",
        "  encoder_in_data[i] = encoder_seq\n",
        "  decoder_seq = sentence2seq(o_text, out_tokens_dict, MAX_OUT_LEN)\n",
        "  decoder_in_data[i] = decoder_seq\n",
        "\n",
        "  # dekoderio išvestis turi būti \"pastumta\" per vieną simbolį:\n",
        "  space_seq = np.zeros((1, len(out_tokens_dict)))\n",
        "  space_seq[0, out_tokens_dict[\" \"]] = 1.0\n",
        "  shifted_decoder_seq = np.concatenate([decoder_seq[1:], space_seq])\n",
        "  decoder_out_data[i] = shifted_decoder_seq"
      ],
      "metadata": {
        "id": "XvL9G6-b9FIX"
      },
      "execution_count": 12,
      "outputs": []
    },
    {
      "cell_type": "markdown",
      "source": [
        "Galime pažiūrėti kaip atrodo duomenys:"
      ],
      "metadata": {
        "id": "OYGrbAwB_sQQ"
      }
    },
    {
      "cell_type": "code",
      "source": [
        "for i in [0, len(data)-1]:\n",
        "  fig, ax = plt.subplots(figsize=(10, 7))\n",
        "  ax.matshow(encoder_in_data[i], aspect='auto')\n",
        "  ax.set_title(f'Užkoduotas {i} sakinys iš EN rinkinio')\n",
        "  x_ticks_labels = [x for x in in_tokens_dict.keys()]\n",
        "  ax.set_xticks(range(len(in_tokens_dict)), labels=x_ticks_labels)\n",
        "  plt.show()"
      ],
      "metadata": {
        "id": "goRGUKlo_urf",
        "colab": {
          "base_uri": "https://localhost:8080/",
          "height": 1000
        },
        "outputId": "2b335ae4-af44-4b26-a926-f76cf5b5cbae"
      },
      "execution_count": 13,
      "outputs": [
        {
          "output_type": "display_data",
          "data": {
            "text/plain": [
              "<Figure size 1000x700 with 1 Axes>"
            ],
            "image/png": "[encoded data removed]"
          },
          "metadata": {}
        },
        {
          "output_type": "display_data",
          "data": {
            "text/plain": [
              "<Figure size 1000x700 with 1 Axes>"
            ],
            "image/png": "[encoded data removed]"
          },
          "metadata": {}
        }
      ]
    },
    {
      "cell_type": "markdown",
      "source": [
        "## 2. Modelis"
      ],
      "metadata": {
        "id": "JQ021uIq4tnT"
      }
    },
    {
      "cell_type": "markdown",
      "source": [
        "Nustatome modelio parametrus:"
      ],
      "metadata": {
        "id": "jjXESz3p2bjW"
      }
    },
    {
      "cell_type": "code",
      "source": [
        "BATCH_SIZE = 64\n",
        "EPOCHS = 50\n",
        "LATENT_DIM = 256\n",
        "\n",
        "N_IN_TOKENS = len(in_tokens_dict)\n",
        "N_OUT_TOKENS = len(out_tokens_dict)"
      ],
      "metadata": {
        "id": "HZLOP7xW2dSV"
      },
      "execution_count": 14,
      "outputs": []
    },
    {
      "cell_type": "markdown",
      "source": [
        "Konstruojame modelį:"
      ],
      "metadata": {
        "id": "tymLQ6084xOI"
      }
    },
    {
      "cell_type": "code",
      "source": [
        "keras.utils.set_random_seed(812)\n",
        "keras.backend.clear_session()\n",
        "\n",
        "# konstruojame enkoderį: įvestis ir vienas LSTM sluoksnis\n",
        "encoder_inputs = keras.Input(shape=(None, N_IN_TOKENS))\n",
        "encoder = keras.layers.LSTM(LATENT_DIM, return_state=True)\n",
        "# gauname LSTM sluoksnio būsenos vektorius, kurie eis į dekoderį\n",
        "_, encoder_h, encoder_c = encoder(encoder_inputs)\n",
        "\n",
        "# konstruojame dekoderį: įvestis, LSTM ir Dense sluoksniai\n",
        "decoder_inputs = keras.Input(shape=(None, N_OUT_TOKENS))\n",
        "decoder_lstm = keras.layers.LSTM(LATENT_DIM, return_sequences=True, return_state=True)\n",
        "# nustatome kad LSTM pradinė būsena ateis iš enkoderio\n",
        "decoder_outputs, _, _ = decoder_lstm(decoder_inputs, initial_state=[encoder_h, encoder_c])\n",
        "# liko tik Dense sluoksnis, kuris turės tiek \"klasių\", kiek turime simbolių LT rinkinyje\n",
        "decoder_dense = keras.layers.Dense(N_OUT_TOKENS, activation=\"softmax\")\n",
        "decoder_outputs = decoder_dense(decoder_outputs)\n",
        "\n",
        "model = keras.Model([encoder_inputs, decoder_inputs], decoder_outputs)"
      ],
      "metadata": {
        "id": "6bUM6-2Z42K9"
      },
      "execution_count": 15,
      "outputs": []
    },
    {
      "cell_type": "markdown",
      "source": [
        "Kompiliuojame modelį su standartiniais parametrais:"
      ],
      "metadata": {
        "id": "ujU1T5nmNXUK"
      }
    },
    {
      "cell_type": "code",
      "source": [
        "model.compile(\n",
        "    optimizer=\"rmsprop\",\n",
        "    loss=\"categorical_crossentropy\",\n",
        "    metrics=[\"accuracy\"]\n",
        ")\n",
        "model.summary()"
      ],
      "metadata": {
        "id": "mu-aroq459t5",
        "colab": {
          "base_uri": "https://localhost:8080/",
          "height": 374
        },
        "outputId": "786e2046-4a37-48e3-dc1c-a13eb6fc40a6"
      },
      "execution_count": 16,
      "outputs": [
        {
          "output_type": "display_data",
          "data": {
            "text/plain": [
              "\u001b[1mModel: \"functional\"\u001b[0m\n"
            ],
            "text/html": [
              "<pre style=\"white-space:pre;overflow-x:auto;line-height:normal;font-family:Menlo,'DejaVu Sans Mono',consolas,'Courier New',monospace\"><span style=\"font-weight: bold\">Model: \"functional\"</span>\n",
              "</pre>\n"
            ]
          },
          "metadata": {}
        },
        {
          "output_type": "display_data",
          "data": {
            "text/plain": [
              "┏━━━━━━━━━━━━━━━━━━━━━━━━━━━┳━━━━━━━━━━━━━━━━━━━━━━━━┳━━━━━━━━━━━━━━━━┳━━━━━━━━━━━━━━━━━━━━━━━━┓\n",
              "┃\u001b[1m \u001b[0m\u001b[1mLayer (type)             \u001b[0m\u001b[1m \u001b[0m┃\u001b[1m \u001b[0m\u001b[1mOutput Shape          \u001b[0m\u001b[1m \u001b[0m┃\u001b[1m \u001b[0m\u001b[1m       Param #\u001b[0m\u001b[1m \u001b[0m┃\u001b[1m \u001b[0m\u001b[1mConnected to          \u001b[0m\u001b[1m \u001b[0m┃\n",
              "┡━━━━━━━━━━━━━━━━━━━━━━━━━━━╇━━━━━━━━━━━━━━━━━━━━━━━━╇━━━━━━━━━━━━━━━━╇━━━━━━━━━━━━━━━━━━━━━━━━┩\n",
              "│ input_layer (\u001b[38;5;33mInputLayer\u001b[0m)  │ (\u001b[38;5;45mNone\u001b[0m, \u001b[38;5;45mNone\u001b[0m, \u001b[38;5;34m88\u001b[0m)       │              \u001b[38;5;34m0\u001b[0m │ -                      │\n",
              "├───────────────────────────┼────────────────────────┼────────────────┼────────────────────────┤\n",
              "│ input_layer_1             │ (\u001b[38;5;45mNone\u001b[0m, \u001b[38;5;45mNone\u001b[0m, \u001b[38;5;34m77\u001b[0m)       │              \u001b[38;5;34m0\u001b[0m │ -                      │\n",
              "│ (\u001b[38;5;33mInputLayer\u001b[0m)              │                        │                │                        │\n",
              "├───────────────────────────┼────────────────────────┼────────────────┼────────────────────────┤\n",
              "│ lstm (\u001b[38;5;33mLSTM\u001b[0m)               │ [(\u001b[38;5;45mNone\u001b[0m, \u001b[38;5;34m256\u001b[0m), (\u001b[38;5;45mNone\u001b[0m,   │        \u001b[38;5;34m353,280\u001b[0m │ input_layer[\u001b[38;5;34m0\u001b[0m][\u001b[38;5;34m0\u001b[0m]      │\n",
              "│                           │ \u001b[38;5;34m256\u001b[0m), (\u001b[38;5;45mNone\u001b[0m, \u001b[38;5;34m256\u001b[0m)]     │                │                        │\n",
              "├───────────────────────────┼────────────────────────┼────────────────┼────────────────────────┤\n",
              "│ lstm_1 (\u001b[38;5;33mLSTM\u001b[0m)             │ [(\u001b[38;5;45mNone\u001b[0m, \u001b[38;5;45mNone\u001b[0m, \u001b[38;5;34m256\u001b[0m),    │        \u001b[38;5;34m342,016\u001b[0m │ input_layer_1[\u001b[38;5;34m0\u001b[0m][\u001b[38;5;34m0\u001b[0m],   │\n",
              "│                           │ (\u001b[38;5;45mNone\u001b[0m, \u001b[38;5;34m256\u001b[0m), (\u001b[38;5;45mNone\u001b[0m,    │                │ lstm[\u001b[38;5;34m0\u001b[0m][\u001b[38;5;34m1\u001b[0m], lstm[\u001b[38;5;34m0\u001b[0m][\u001b[38;5;34m2\u001b[0m] │\n",
              "│                           │ \u001b[38;5;34m256\u001b[0m)]                  │                │                        │\n",
              "├───────────────────────────┼────────────────────────┼────────────────┼────────────────────────┤\n",
              "│ dense (\u001b[38;5;33mDense\u001b[0m)             │ (\u001b[38;5;45mNone\u001b[0m, \u001b[38;5;45mNone\u001b[0m, \u001b[38;5;34m77\u001b[0m)       │         \u001b[38;5;34m19,789\u001b[0m │ lstm_1[\u001b[38;5;34m0\u001b[0m][\u001b[38;5;34m0\u001b[0m]           │\n",
              "└───────────────────────────┴────────────────────────┴────────────────┴────────────────────────┘\n"
            ],
            "text/html": [
              "<pre style=\"white-space:pre;overflow-x:auto;line-height:normal;font-family:Menlo,'DejaVu Sans Mono',consolas,'Courier New',monospace\">┏━━━━━━━━━━━━━━━━━━━━━━━━━━━┳━━━━━━━━━━━━━━━━━━━━━━━━┳━━━━━━━━━━━━━━━━┳━━━━━━━━━━━━━━━━━━━━━━━━┓\n",
              "┃<span style=\"font-weight: bold\"> Layer (type)              </span>┃<span style=\"font-weight: bold\"> Output Shape           </span>┃<span style=\"font-weight: bold\">        Param # </span>┃<span style=\"font-weight: bold\"> Connected to           </span>┃\n",
              "┡━━━━━━━━━━━━━━━━━━━━━━━━━━━╇━━━━━━━━━━━━━━━━━━━━━━━━╇━━━━━━━━━━━━━━━━╇━━━━━━━━━━━━━━━━━━━━━━━━┩\n",
              "│ input_layer (<span style=\"color: #0087ff; text-decoration-color: #0087ff\">InputLayer</span>)  │ (<span style=\"color: #00d7ff; text-decoration-color: #00d7ff\">None</span>, <span style=\"color: #00d7ff; text-decoration-color: #00d7ff\">None</span>, <span style=\"color: #00af00; text-decoration-color: #00af00\">88</span>)       │              <span style=\"color: #00af00; text-decoration-color: #00af00\">0</span> │ -                      │\n",
              "├───────────────────────────┼────────────────────────┼────────────────┼────────────────────────┤\n",
              "│ input_layer_1             │ (<span style=\"color: #00d7ff; text-decoration-color: #00d7ff\">None</span>, <span style=\"color: #00d7ff; text-decoration-color: #00d7ff\">None</span>, <span style=\"color: #00af00; text-decoration-color: #00af00\">77</span>)       │              <span style=\"color: #00af00; text-decoration-color: #00af00\">0</span> │ -                      │\n",
              "│ (<span style=\"color: #0087ff; text-decoration-color: #0087ff\">InputLayer</span>)              │                        │                │                        │\n",
              "├───────────────────────────┼────────────────────────┼────────────────┼────────────────────────┤\n",
              "│ lstm (<span style=\"color: #0087ff; text-decoration-color: #0087ff\">LSTM</span>)               │ [(<span style=\"color: #00d7ff; text-decoration-color: #00d7ff\">None</span>, <span style=\"color: #00af00; text-decoration-color: #00af00\">256</span>), (<span style=\"color: #00d7ff; text-decoration-color: #00d7ff\">None</span>,   │        <span style=\"color: #00af00; text-decoration-color: #00af00\">353,280</span> │ input_layer[<span style=\"color: #00af00; text-decoration-color: #00af00\">0</span>][<span style=\"color: #00af00; text-decoration-color: #00af00\">0</span>]      │\n",
              "│                           │ <span style=\"color: #00af00; text-decoration-color: #00af00\">256</span>), (<span style=\"color: #00d7ff; text-decoration-color: #00d7ff\">None</span>, <span style=\"color: #00af00; text-decoration-color: #00af00\">256</span>)]     │                │                        │\n",
              "├───────────────────────────┼────────────────────────┼────────────────┼────────────────────────┤\n",
              "│ lstm_1 (<span style=\"color: #0087ff; text-decoration-color: #0087ff\">LSTM</span>)             │ [(<span style=\"color: #00d7ff; text-decoration-color: #00d7ff\">None</span>, <span style=\"color: #00d7ff; text-decoration-color: #00d7ff\">None</span>, <span style=\"color: #00af00; text-decoration-color: #00af00\">256</span>),    │        <span style=\"color: #00af00; text-decoration-color: #00af00\">342,016</span> │ input_layer_1[<span style=\"color: #00af00; text-decoration-color: #00af00\">0</span>][<span style=\"color: #00af00; text-decoration-color: #00af00\">0</span>],   │\n",
              "│                           │ (<span style=\"color: #00d7ff; text-decoration-color: #00d7ff\">None</span>, <span style=\"color: #00af00; text-decoration-color: #00af00\">256</span>), (<span style=\"color: #00d7ff; text-decoration-color: #00d7ff\">None</span>,    │                │ lstm[<span style=\"color: #00af00; text-decoration-color: #00af00\">0</span>][<span style=\"color: #00af00; text-decoration-color: #00af00\">1</span>], lstm[<span style=\"color: #00af00; text-decoration-color: #00af00\">0</span>][<span style=\"color: #00af00; text-decoration-color: #00af00\">2</span>] │\n",
              "│                           │ <span style=\"color: #00af00; text-decoration-color: #00af00\">256</span>)]                  │                │                        │\n",
              "├───────────────────────────┼────────────────────────┼────────────────┼────────────────────────┤\n",
              "│ dense (<span style=\"color: #0087ff; text-decoration-color: #0087ff\">Dense</span>)             │ (<span style=\"color: #00d7ff; text-decoration-color: #00d7ff\">None</span>, <span style=\"color: #00d7ff; text-decoration-color: #00d7ff\">None</span>, <span style=\"color: #00af00; text-decoration-color: #00af00\">77</span>)       │         <span style=\"color: #00af00; text-decoration-color: #00af00\">19,789</span> │ lstm_1[<span style=\"color: #00af00; text-decoration-color: #00af00\">0</span>][<span style=\"color: #00af00; text-decoration-color: #00af00\">0</span>]           │\n",
              "└───────────────────────────┴────────────────────────┴────────────────┴────────────────────────┘\n",
              "</pre>\n"
            ]
          },
          "metadata": {}
        },
        {
          "output_type": "display_data",
          "data": {
            "text/plain": [
              "\u001b[1m Total params: \u001b[0m\u001b[38;5;34m715,085\u001b[0m (2.73 MB)\n"
            ],
            "text/html": [
              "<pre style=\"white-space:pre;overflow-x:auto;line-height:normal;font-family:Menlo,'DejaVu Sans Mono',consolas,'Courier New',monospace\"><span style=\"font-weight: bold\"> Total params: </span><span style=\"color: #00af00; text-decoration-color: #00af00\">715,085</span> (2.73 MB)\n",
              "</pre>\n"
            ]
          },
          "metadata": {}
        },
        {
          "output_type": "display_data",
          "data": {
            "text/plain": [
              "\u001b[1m Trainable params: \u001b[0m\u001b[38;5;34m715,085\u001b[0m (2.73 MB)\n"
            ],
            "text/html": [
              "<pre style=\"white-space:pre;overflow-x:auto;line-height:normal;font-family:Menlo,'DejaVu Sans Mono',consolas,'Courier New',monospace\"><span style=\"font-weight: bold\"> Trainable params: </span><span style=\"color: #00af00; text-decoration-color: #00af00\">715,085</span> (2.73 MB)\n",
              "</pre>\n"
            ]
          },
          "metadata": {}
        },
        {
          "output_type": "display_data",
          "data": {
            "text/plain": [
              "\u001b[1m Non-trainable params: \u001b[0m\u001b[38;5;34m0\u001b[0m (0.00 B)\n"
            ],
            "text/html": [
              "<pre style=\"white-space:pre;overflow-x:auto;line-height:normal;font-family:Menlo,'DejaVu Sans Mono',consolas,'Courier New',monospace\"><span style=\"font-weight: bold\"> Non-trainable params: </span><span style=\"color: #00af00; text-decoration-color: #00af00\">0</span> (0.00 B)\n",
              "</pre>\n"
            ]
          },
          "metadata": {}
        }
      ]
    },
    {
      "cell_type": "markdown",
      "source": [
        "## 3. Apmokymas"
      ],
      "metadata": {
        "id": "NqDGlsg_C4qt"
      }
    },
    {
      "cell_type": "code",
      "source": [
        "model.fit(\n",
        "    batch_size = BATCH_SIZE,\n",
        "    x = [encoder_in_data, decoder_in_data],\n",
        "    y = decoder_out_data,\n",
        "    epochs = EPOCHS,\n",
        "    validation_split = 0.2\n",
        ")"
      ],
      "metadata": {
        "colab": {
          "base_uri": "https://localhost:8080/"
        },
        "id": "Trq7F0i-15kV",
        "outputId": "f4b16493-e6c1-49e2-9674-c35a1c71829e"
      },
      "execution_count": 17,
      "outputs": [
        {
          "output_type": "stream",
          "name": "stdout",
          "text": [
            "Epoch 1/50\n",
            "\u001b[1m100/100\u001b[0m \u001b[32m━━━━━━━━━━━━━━━━━━━━\u001b[0m\u001b[37m\u001b[0m \u001b[1m6s\u001b[0m 42ms/step - accuracy: 0.7883 - loss: 1.4059 - val_accuracy: 0.7981 - val_loss: 0.8213\n",
            "Epoch 2/50\n",
            "\u001b[1m100/100\u001b[0m \u001b[32m━━━━━━━━━━━━━━━━━━━━\u001b[0m\u001b[37m\u001b[0m \u001b[1m4s\u001b[0m 35ms/step - accuracy: 0.7968 - loss: 0.8262 - val_accuracy: 0.7992 - val_loss: 0.7503\n",
            "Epoch 3/50\n",
            "\u001b[1m100/100\u001b[0m \u001b[32m━━━━━━━━━━━━━━━━━━━━\u001b[0m\u001b[37m\u001b[0m \u001b[1m3s\u001b[0m 30ms/step - accuracy: 0.7935 - loss: 0.7724 - val_accuracy: 0.7931 - val_loss: 0.7470\n",
            "Epoch 4/50\n",
            "\u001b[1m100/100\u001b[0m \u001b[32m━━━━━━━━━━━━━━━━━━━━\u001b[0m\u001b[37m\u001b[0m \u001b[1m3s\u001b[0m 34ms/step - accuracy: 0.7964 - loss: 0.7270 - val_accuracy: 0.7962 - val_loss: 0.7264\n",
            "Epoch 5/50\n",
            "\u001b[1m100/100\u001b[0m \u001b[32m━━━━━━━━━━━━━━━━━━━━\u001b[0m\u001b[37m\u001b[0m \u001b[1m5s\u001b[0m 37ms/step - accuracy: 0.8036 - loss: 0.6977 - val_accuracy: 0.8188 - val_loss: 0.6458\n",
            "Epoch 6/50\n",
            "\u001b[1m100/100\u001b[0m \u001b[32m━━━━━━━━━━━━━━━━━━━━\u001b[0m\u001b[37m\u001b[0m \u001b[1m3s\u001b[0m 31ms/step - accuracy: 0.8148 - loss: 0.6526 - val_accuracy: 0.8320 - val_loss: 0.5962\n",
            "Epoch 7/50\n",
            "\u001b[1m100/100\u001b[0m \u001b[32m━━━━━━━━━━━━━━━━━━━━\u001b[0m\u001b[37m\u001b[0m \u001b[1m3s\u001b[0m 31ms/step - accuracy: 0.8300 - loss: 0.6026 - val_accuracy: 0.8368 - val_loss: 0.5707\n",
            "Epoch 8/50\n",
            "\u001b[1m100/100\u001b[0m \u001b[32m━━━━━━━━━━━━━━━━━━━━\u001b[0m\u001b[37m\u001b[0m \u001b[1m3s\u001b[0m 31ms/step - accuracy: 0.8357 - loss: 0.5715 - val_accuracy: 0.8391 - val_loss: 0.5503\n",
            "Epoch 9/50\n",
            "\u001b[1m100/100\u001b[0m \u001b[32m━━━━━━━━━━━━━━━━━━━━\u001b[0m\u001b[37m\u001b[0m \u001b[1m4s\u001b[0m 36ms/step - accuracy: 0.8395 - loss: 0.5547 - val_accuracy: 0.8408 - val_loss: 0.5481\n",
            "Epoch 10/50\n",
            "\u001b[1m100/100\u001b[0m \u001b[32m━━━━━━━━━━━━━━━━━━━━\u001b[0m\u001b[37m\u001b[0m \u001b[1m5s\u001b[0m 38ms/step - accuracy: 0.8424 - loss: 0.5418 - val_accuracy: 0.8463 - val_loss: 0.5274\n",
            "Epoch 11/50\n",
            "\u001b[1m100/100\u001b[0m \u001b[32m━━━━━━━━━━━━━━━━━━━━\u001b[0m\u001b[37m\u001b[0m \u001b[1m4s\u001b[0m 31ms/step - accuracy: 0.8448 - loss: 0.5297 - val_accuracy: 0.8468 - val_loss: 0.5259\n",
            "Epoch 12/50\n",
            "\u001b[1m100/100\u001b[0m \u001b[32m━━━━━━━━━━━━━━━━━━━━\u001b[0m\u001b[37m\u001b[0m \u001b[1m6s\u001b[0m 35ms/step - accuracy: 0.8472 - loss: 0.5205 - val_accuracy: 0.8494 - val_loss: 0.5116\n",
            "Epoch 13/50\n",
            "\u001b[1m100/100\u001b[0m \u001b[32m━━━━━━━━━━━━━━━━━━━━\u001b[0m\u001b[37m\u001b[0m \u001b[1m5s\u001b[0m 32ms/step - accuracy: 0.8493 - loss: 0.5117 - val_accuracy: 0.8485 - val_loss: 0.5081\n",
            "Epoch 14/50\n",
            "\u001b[1m100/100\u001b[0m \u001b[32m━━━━━━━━━━━━━━━━━━━━\u001b[0m\u001b[37m\u001b[0m \u001b[1m5s\u001b[0m 33ms/step - accuracy: 0.8515 - loss: 0.5041 - val_accuracy: 0.8527 - val_loss: 0.4985\n",
            "Epoch 15/50\n",
            "\u001b[1m100/100\u001b[0m \u001b[32m━━━━━━━━━━━━━━━━━━━━\u001b[0m\u001b[37m\u001b[0m \u001b[1m3s\u001b[0m 30ms/step - accuracy: 0.8532 - loss: 0.4969 - val_accuracy: 0.8539 - val_loss: 0.4942\n",
            "Epoch 16/50\n",
            "\u001b[1m100/100\u001b[0m \u001b[32m━━━━━━━━━━━━━━━━━━━━\u001b[0m\u001b[37m\u001b[0m \u001b[1m6s\u001b[0m 35ms/step - accuracy: 0.8554 - loss: 0.4897 - val_accuracy: 0.8559 - val_loss: 0.4849\n",
            "Epoch 17/50\n",
            "\u001b[1m100/100\u001b[0m \u001b[32m━━━━━━━━━━━━━━━━━━━━\u001b[0m\u001b[37m\u001b[0m \u001b[1m5s\u001b[0m 32ms/step - accuracy: 0.8565 - loss: 0.4879 - val_accuracy: 0.8591 - val_loss: 0.4771\n",
            "Epoch 18/50\n",
            "\u001b[1m100/100\u001b[0m \u001b[32m━━━━━━━━━━━━━━━━━━━━\u001b[0m\u001b[37m\u001b[0m \u001b[1m5s\u001b[0m 31ms/step - accuracy: 0.8589 - loss: 0.4782 - val_accuracy: 0.8604 - val_loss: 0.4725\n",
            "Epoch 19/50\n",
            "\u001b[1m100/100\u001b[0m \u001b[32m━━━━━━━━━━━━━━━━━━━━\u001b[0m\u001b[37m\u001b[0m \u001b[1m5s\u001b[0m 33ms/step - accuracy: 0.8606 - loss: 0.4722 - val_accuracy: 0.8612 - val_loss: 0.4667\n",
            "Epoch 20/50\n",
            "\u001b[1m100/100\u001b[0m \u001b[32m━━━━━━━━━━━━━━━━━━━━\u001b[0m\u001b[37m\u001b[0m \u001b[1m3s\u001b[0m 32ms/step - accuracy: 0.8617 - loss: 0.4666 - val_accuracy: 0.8635 - val_loss: 0.4613\n",
            "Epoch 21/50\n",
            "\u001b[1m100/100\u001b[0m \u001b[32m━━━━━━━━━━━━━━━━━━━━\u001b[0m\u001b[37m\u001b[0m \u001b[1m3s\u001b[0m 31ms/step - accuracy: 0.8634 - loss: 0.4614 - val_accuracy: 0.8633 - val_loss: 0.4597\n",
            "Epoch 22/50\n",
            "\u001b[1m100/100\u001b[0m \u001b[32m━━━━━━━━━━━━━━━━━━━━\u001b[0m\u001b[37m\u001b[0m \u001b[1m3s\u001b[0m 30ms/step - accuracy: 0.8648 - loss: 0.4564 - val_accuracy: 0.8647 - val_loss: 0.4547\n",
            "Epoch 23/50\n",
            "\u001b[1m100/100\u001b[0m \u001b[32m━━━━━━━━━━━━━━━━━━━━\u001b[0m\u001b[37m\u001b[0m \u001b[1m5s\u001b[0m 33ms/step - accuracy: 0.8659 - loss: 0.4519 - val_accuracy: 0.8666 - val_loss: 0.4482\n",
            "Epoch 24/50\n",
            "\u001b[1m100/100\u001b[0m \u001b[32m━━━━━━━━━━━━━━━━━━━━\u001b[0m\u001b[37m\u001b[0m \u001b[1m3s\u001b[0m 31ms/step - accuracy: 0.8673 - loss: 0.4472 - val_accuracy: 0.8674 - val_loss: 0.4448\n",
            "Epoch 25/50\n",
            "\u001b[1m100/100\u001b[0m \u001b[32m━━━━━━━━━━━━━━━━━━━━\u001b[0m\u001b[37m\u001b[0m \u001b[1m3s\u001b[0m 30ms/step - accuracy: 0.8683 - loss: 0.4428 - val_accuracy: 0.8687 - val_loss: 0.4407\n",
            "Epoch 26/50\n",
            "\u001b[1m100/100\u001b[0m \u001b[32m━━━━━━━━━━━━━━━━━━━━\u001b[0m\u001b[37m\u001b[0m \u001b[1m3s\u001b[0m 34ms/step - accuracy: 0.8696 - loss: 0.4388 - val_accuracy: 0.8689 - val_loss: 0.4400\n",
            "Epoch 27/50\n",
            "\u001b[1m100/100\u001b[0m \u001b[32m━━━━━━━━━━━━━━━━━━━━\u001b[0m\u001b[37m\u001b[0m \u001b[1m3s\u001b[0m 33ms/step - accuracy: 0.8707 - loss: 0.4345 - val_accuracy: 0.8700 - val_loss: 0.4360\n",
            "Epoch 28/50\n",
            "\u001b[1m100/100\u001b[0m \u001b[32m━━━━━━━━━━━━━━━━━━━━\u001b[0m\u001b[37m\u001b[0m \u001b[1m3s\u001b[0m 34ms/step - accuracy: 0.8718 - loss: 0.4307 - val_accuracy: 0.8706 - val_loss: 0.4322\n",
            "Epoch 29/50\n",
            "\u001b[1m100/100\u001b[0m \u001b[32m━━━━━━━━━━━━━━━━━━━━\u001b[0m\u001b[37m\u001b[0m \u001b[1m5s\u001b[0m 32ms/step - accuracy: 0.8728 - loss: 0.4268 - val_accuracy: 0.8713 - val_loss: 0.4285\n",
            "Epoch 30/50\n",
            "\u001b[1m100/100\u001b[0m \u001b[32m━━━━━━━━━━━━━━━━━━━━\u001b[0m\u001b[37m\u001b[0m \u001b[1m4s\u001b[0m 35ms/step - accuracy: 0.8738 - loss: 0.4230 - val_accuracy: 0.8721 - val_loss: 0.4273\n",
            "Epoch 31/50\n",
            "\u001b[1m100/100\u001b[0m \u001b[32m━━━━━━━━━━━━━━━━━━━━\u001b[0m\u001b[37m\u001b[0m \u001b[1m3s\u001b[0m 31ms/step - accuracy: 0.8747 - loss: 0.4195 - val_accuracy: 0.8737 - val_loss: 0.4220\n",
            "Epoch 32/50\n",
            "\u001b[1m100/100\u001b[0m \u001b[32m━━━━━━━━━━━━━━━━━━━━\u001b[0m\u001b[37m\u001b[0m \u001b[1m3s\u001b[0m 31ms/step - accuracy: 0.8757 - loss: 0.4160 - val_accuracy: 0.8743 - val_loss: 0.4193\n",
            "Epoch 33/50\n",
            "\u001b[1m100/100\u001b[0m \u001b[32m━━━━━━━━━━━━━━━━━━━━\u001b[0m\u001b[37m\u001b[0m \u001b[1m3s\u001b[0m 31ms/step - accuracy: 0.8766 - loss: 0.4125 - val_accuracy: 0.8747 - val_loss: 0.4177\n",
            "Epoch 34/50\n",
            "\u001b[1m100/100\u001b[0m \u001b[32m━━━━━━━━━━━━━━━━━━━━\u001b[0m\u001b[37m\u001b[0m \u001b[1m3s\u001b[0m 33ms/step - accuracy: 0.8774 - loss: 0.4092 - val_accuracy: 0.8761 - val_loss: 0.4132\n",
            "Epoch 35/50\n",
            "\u001b[1m100/100\u001b[0m \u001b[32m━━━━━━━━━━━━━━━━━━━━\u001b[0m\u001b[37m\u001b[0m \u001b[1m6s\u001b[0m 41ms/step - accuracy: 0.8783 - loss: 0.4061 - val_accuracy: 0.8765 - val_loss: 0.4114\n",
            "Epoch 36/50\n",
            "\u001b[1m100/100\u001b[0m \u001b[32m━━━━━━━━━━━━━━━━━━━━\u001b[0m\u001b[37m\u001b[0m \u001b[1m6s\u001b[0m 49ms/step - accuracy: 0.8793 - loss: 0.4028 - val_accuracy: 0.8775 - val_loss: 0.4087\n",
            "Epoch 37/50\n",
            "\u001b[1m100/100\u001b[0m \u001b[32m━━━━━━━━━━━━━━━━━━━━\u001b[0m\u001b[37m\u001b[0m \u001b[1m4s\u001b[0m 44ms/step - accuracy: 0.8802 - loss: 0.3999 - val_accuracy: 0.8780 - val_loss: 0.4056\n",
            "Epoch 38/50\n",
            "\u001b[1m100/100\u001b[0m \u001b[32m━━━━━━━━━━━━━━━━━━━━\u001b[0m\u001b[37m\u001b[0m \u001b[1m4s\u001b[0m 31ms/step - accuracy: 0.8807 - loss: 0.3971 - val_accuracy: 0.8789 - val_loss: 0.4028\n",
            "Epoch 39/50\n",
            "\u001b[1m100/100\u001b[0m \u001b[32m━━━━━━━━━━━━━━━━━━━━\u001b[0m\u001b[37m\u001b[0m \u001b[1m3s\u001b[0m 30ms/step - accuracy: 0.8817 - loss: 0.3940 - val_accuracy: 0.8797 - val_loss: 0.4019\n",
            "Epoch 40/50\n",
            "\u001b[1m100/100\u001b[0m \u001b[32m━━━━━━━━━━━━━━━━━━━━\u001b[0m\u001b[37m\u001b[0m \u001b[1m5s\u001b[0m 32ms/step - accuracy: 0.8825 - loss: 0.3914 - val_accuracy: 0.8800 - val_loss: 0.3990\n",
            "Epoch 41/50\n",
            "\u001b[1m100/100\u001b[0m \u001b[32m━━━━━━━━━━━━━━━━━━━━\u001b[0m\u001b[37m\u001b[0m \u001b[1m3s\u001b[0m 31ms/step - accuracy: 0.8832 - loss: 0.3886 - val_accuracy: 0.8810 - val_loss: 0.3967\n",
            "Epoch 42/50\n",
            "\u001b[1m100/100\u001b[0m \u001b[32m━━━━━━━━━━━━━━━━━━━━\u001b[0m\u001b[37m\u001b[0m \u001b[1m3s\u001b[0m 30ms/step - accuracy: 0.8838 - loss: 0.3860 - val_accuracy: 0.8811 - val_loss: 0.3961\n",
            "Epoch 43/50\n",
            "\u001b[1m100/100\u001b[0m \u001b[32m━━━━━━━━━━━━━━━━━━━━\u001b[0m\u001b[37m\u001b[0m \u001b[1m3s\u001b[0m 34ms/step - accuracy: 0.8846 - loss: 0.3830 - val_accuracy: 0.8822 - val_loss: 0.3922\n",
            "Epoch 44/50\n",
            "\u001b[1m100/100\u001b[0m \u001b[32m━━━━━━━━━━━━━━━━━━━━\u001b[0m\u001b[37m\u001b[0m \u001b[1m3s\u001b[0m 31ms/step - accuracy: 0.8828 - loss: 0.3917 - val_accuracy: 0.8822 - val_loss: 0.3898\n",
            "Epoch 45/50\n",
            "\u001b[1m100/100\u001b[0m \u001b[32m━━━━━━━━━━━━━━━━━━━━\u001b[0m\u001b[37m\u001b[0m \u001b[1m3s\u001b[0m 31ms/step - accuracy: 0.8836 - loss: 0.3933 - val_accuracy: 0.8827 - val_loss: 0.3885\n",
            "Epoch 46/50\n",
            "\u001b[1m100/100\u001b[0m \u001b[32m━━━━━━━━━━━━━━━━━━━━\u001b[0m\u001b[37m\u001b[0m \u001b[1m5s\u001b[0m 33ms/step - accuracy: 0.8861 - loss: 0.3772 - val_accuracy: 0.8831 - val_loss: 0.3883\n",
            "Epoch 47/50\n",
            "\u001b[1m100/100\u001b[0m \u001b[32m━━━━━━━━━━━━━━━━━━━━\u001b[0m\u001b[37m\u001b[0m \u001b[1m5s\u001b[0m 31ms/step - accuracy: 0.8870 - loss: 0.3745 - val_accuracy: 0.8834 - val_loss: 0.3869\n",
            "Epoch 48/50\n",
            "\u001b[1m100/100\u001b[0m \u001b[32m━━━━━━━━━━━━━━━━━━━━\u001b[0m\u001b[37m\u001b[0m \u001b[1m3s\u001b[0m 30ms/step - accuracy: 0.8878 - loss: 0.3722 - val_accuracy: 0.8834 - val_loss: 0.3876\n",
            "Epoch 49/50\n",
            "\u001b[1m100/100\u001b[0m \u001b[32m━━━━━━━━━━━━━━━━━━━━\u001b[0m\u001b[37m\u001b[0m \u001b[1m6s\u001b[0m 37ms/step - accuracy: 0.8881 - loss: 0.3701 - val_accuracy: 0.8838 - val_loss: 0.3856\n",
            "Epoch 50/50\n",
            "\u001b[1m100/100\u001b[0m \u001b[32m━━━━━━━━━━━━━━━━━━━━\u001b[0m\u001b[37m\u001b[0m \u001b[1m5s\u001b[0m 34ms/step - accuracy: 0.8887 - loss: 0.3677 - val_accuracy: 0.8848 - val_loss: 0.3829\n"
          ]
        },
        {
          "output_type": "execute_result",
          "data": {
            "text/plain": [
              "<keras.src.callbacks.history.History at 0x7c1575e06a10>"
            ]
          },
          "metadata": {},
          "execution_count": 17
        }
      ]
    },
    {
      "cell_type": "markdown",
      "source": [
        "## 4. Modelio panaudojimas teksto vertimui"
      ],
      "metadata": {
        "id": "GPqi3KnvDx1M"
      }
    },
    {
      "cell_type": "code",
      "source": [
        "model.save(\"esp2en.keras\")"
      ],
      "metadata": {
        "id": "vbo_rm-E7cxF"
      },
      "execution_count": 18,
      "outputs": []
    },
    {
      "cell_type": "markdown",
      "source": [
        "Paruošiame išversto sakinio gavimo funkciją:"
      ],
      "metadata": {
        "id": "n6bUzUEbEH_h"
      }
    },
    {
      "cell_type": "code",
      "source": [
        "def translate(\n",
        "    in_sentence: str,\n",
        "    encoder: keras.Model,\n",
        "    decoder: keras.Model,\n",
        "    in_tokens_dict: dict,\n",
        "    out_tokens_dict: dict) -> str:\n",
        "\n",
        "  out_sentence = \"\"\n",
        "\n",
        "  # gauname atvirkštinį simbolių žodyną kad galėtume perskaityti rezultatą:\n",
        "  out_tokens_reverse = {v: k for k, v in out_tokens_dict.items()}\n",
        "\n",
        "  # konvertuojame gautą sakinį į tokenus:\n",
        "  in_seq = sentence2seq(in_sentence, in_tokens_dict, MAX_IN_LEN)\n",
        "  # turime batch size lygu vienetui:\n",
        "  in_seq = np.expand_dims(in_seq, axis=0)\n",
        "\n",
        "  # gauname būsenos vektorius iš enkoderio:\n",
        "  states = encoder.predict(in_seq, verbose=0)\n",
        "  # konstruojame tuščią seką, kur saugosime prognozuotus simbolius:\n",
        "  out_seq = np.zeros((1, 1, len(out_tokens_dict)))\n",
        "  # pirmas simbolius turi būti tab'as:\n",
        "  out_seq[0, 0, out_tokens_dict[START]] = 1.0\n",
        "\n",
        "  while True:\n",
        "    pred, h, c = decoder.predict([out_seq] + states, verbose=0)\n",
        "\n",
        "    # traukiame geriausią spėjimą\n",
        "    best_i = np.argmax(pred[0, -1, :])\n",
        "    best_char = out_tokens_reverse[best_i]\n",
        "    out_sentence += best_char\n",
        "\n",
        "    # jeigu pasiekiame ilgio galą ar \\n:\n",
        "    if (best_char == '\\n') or (len(out_sentence) > MAX_OUT_LEN):\n",
        "      break\n",
        "\n",
        "    # atnaujiname turimą seką sekančiam spėjimui:\n",
        "    out_seq = np.zeros((1, 1, len(out_tokens_dict)))\n",
        "    out_seq[0, 0, best_i] = 1.0\n",
        "    # atnaujiname enkoderio būsenos vektorius:\n",
        "    states = [h, c]\n",
        "\n",
        "  return out_sentence"
      ],
      "metadata": {
        "id": "y-iid-z_ER9G"
      },
      "execution_count": 19,
      "outputs": []
    },
    {
      "cell_type": "markdown",
      "source": [
        "Paruošiame prognozavimo enkoderį:"
      ],
      "metadata": {
        "id": "780uoZ91H8km"
      }
    },
    {
      "cell_type": "code",
      "source": [
        "encoder_inputs = model.input[0]  # input_1\n",
        "encoder_outputs, state_h_enc, state_c_enc = model.layers[2].output  # lstm_1\n",
        "encoder_states = [state_h_enc, state_c_enc]\n",
        "encoder_model = keras.Model(encoder_inputs, encoder_states)\n",
        "\n",
        "decoder_inputs = model.input[1]  # input_2\n",
        "decoder_state_input_h = keras.Input(shape=(LATENT_DIM,))\n",
        "decoder_state_input_c = keras.Input(shape=(LATENT_DIM,))\n",
        "decoder_states_inputs = [decoder_state_input_h, decoder_state_input_c]\n",
        "decoder_lstm = model.layers[3]\n",
        "decoder_outputs, state_h_dec, state_c_dec = decoder_lstm(\n",
        "    decoder_inputs, initial_state=decoder_states_inputs\n",
        ")\n",
        "decoder_states = [state_h_dec, state_c_dec]\n",
        "decoder_dense = model.layers[4]\n",
        "decoder_outputs = decoder_dense(decoder_outputs)\n",
        "decoder_model = keras.Model(\n",
        "    [decoder_inputs] + decoder_states_inputs, [decoder_outputs] + decoder_states\n",
        ")"
      ],
      "metadata": {
        "id": "0CCln2Xlgc2R"
      },
      "execution_count": 20,
      "outputs": []
    },
    {
      "cell_type": "code",
      "source": [
        "inference_encoder = keras.Model(\n",
        "    model.input[0],  # enkoderio įversties sluoksnis\n",
        "    [model.layers[2].output[1], model.layers[2].output[2]]  # enkoderio būsenos vektoriai\n",
        ")"
      ],
      "metadata": {
        "id": "649Jyq0zKoHT"
      },
      "execution_count": 21,
      "outputs": []
    },
    {
      "cell_type": "markdown",
      "source": [
        "Prognozavimo dekoderio rekonstravimas reikalauja daugiau žingsnių:"
      ],
      "metadata": {
        "id": "k-sNARNVKpC0"
      }
    },
    {
      "cell_type": "code",
      "source": [
        "decoder_inputs = model.input[1]  # dekoderio įvesties sluoksnis\n",
        "decoder_lstm = model.layers[3]   # dekoderio LSTM sluoksnis\n",
        "decoder_dense = model.layers[4]  # dekoderio Dense sluoksnis\n",
        "\n",
        "# Konstruojame tuščią įvestį\n",
        "decoder_states_inputs = [keras.Input(shape=(LATENT_DIM,)),\n",
        "                         keras.Input(shape=(LATENT_DIM,))]\n",
        "# Gauname išvestį ir būsenos vektorius po LSTM sluoksnio:\n",
        "decoder_outputs, state_h, state_c = decoder_lstm(\n",
        "    decoder_inputs,\n",
        "    initial_state=decoder_states_inputs\n",
        ")\n",
        "# Praleidžiame išvestį pro Dense sluoksnį:\n",
        "decoder_outputs = decoder_dense(decoder_outputs)\n",
        "\n",
        "# Galiausiai konstruojame modelį\n",
        "inference_decoder = keras.Model(\n",
        "    [decoder_inputs] + decoder_states_inputs,\n",
        "    [decoder_outputs] + [state_h, state_c]\n",
        ")"
      ],
      "metadata": {
        "id": "t-NbiYOgICBY"
      },
      "execution_count": 22,
      "outputs": []
    },
    {
      "cell_type": "markdown",
      "source": [
        "Panaudojame gautus modelius:"
      ],
      "metadata": {
        "id": "5axjeLL8IC_v"
      }
    },
    {
      "cell_type": "code",
      "source": [
        "for phrase in ['La tecnología ha transformado nuestras vidas de manera significativa. Hoy en día, es común utilizar dispositivos electrónicos para']:\n",
        "  print(translate(phrase,\n",
        "                  encoder=encoder_model,\n",
        "                  decoder=decoder_model,\n",
        "                  in_tokens_dict=in_tokens_dict,\n",
        "                  out_tokens_dict=out_tokens_dict))"
      ],
      "metadata": {
        "id": "sJRzFwhtFeYb",
        "colab": {
          "base_uri": "https://localhost:8080/"
        },
        "outputId": "43c31f5d-2d91-49e4-b1d0-90b8f3b786ba"
      },
      "execution_count": 29,
      "outputs": [
        {
          "output_type": "stream",
          "name": "stdout",
          "text": [
            "I don't want to stop doing to the pare.\n",
            "\n"
          ]
        }
      ]
    },
    {
      "cell_type": "code",
      "source": [],
      "metadata": {
        "id": "vUumcRWKkNLf"
      },
      "execution_count": null,
      "outputs": []
    }
  ]
}